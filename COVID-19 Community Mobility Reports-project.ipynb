{
 "cells": [
  {
   "cell_type": "markdown",
   "id": "b448c38d",
   "metadata": {},
   "source": [
    "# Veri Madenciliği Final Projesi"
   ]
  },
  {
   "cell_type": "markdown",
   "id": "5d09ed57",
   "metadata": {},
   "source": [
    "Sınıflandırma, farklı veri sınıflarını gruplandırabilen bir veri analizi biçimidir.\n",
    "Sınıflandırma ile çözüm verilen eğitim kümesinden veri sınıflarını öğrenilmesi ve\n",
    "ilgili sınıfın belirli olmadığı test verileri geldiğinde doğru şekilde sınıflandırmaya çalışılmasıdır."
   ]
  },
  {
   "cell_type": "markdown",
   "id": "034b5b20",
   "metadata": {},
   "source": [
    "Proje Konusu:\n",
    "Covid süresince Global location datasından Google’in elde etmiş olduğu mobility datası https://www.google.com/covid19/mobility/ sitesi üzerinden yayınlanmıştır. \n",
    "Bu projede bu data analiz edilip raporlanmıştır. DateFrame'in 9-14 sütun verileri feautre olarak kullanılmıştır ve çeşitli sınıflandırma yöntemleriyle aylar tahmin edilmiştir. \n",
    "Projede beklenen ayların tahminin doğru bir şekilde yapılmasıdır. Çeşitli sınıflandırma yöntemleriyle \"Month\" sütunundaki veriler doğru bir şekilde tahmin edilmeye çalışılmıştır. \n",
    "Bu problemden yola çıkarak bazı analizler yapılmıştır. Proje 2 şekilde incelenilmiştir:\n",
    "\n",
    "1.\n",
    "2020 verisetinde bulunan yaz aylarındaki değerler eğitim için kullanılmıştır.\n",
    "2021 veriseti ile test edilmiş ve hangi aylarda gerçekleşmiş olduğu tahmin edilmiştir. olduğunu tahmin ettik\n",
    "2020 datasının %70 train için, 2021 veri setinin %30u ise test için kullanılmıştır.\n",
    "Bu aşamada amacımız yılların birbirine göre yaz aylarındaki değişimleri gözlemlemektir. \n",
    "Böylece her iki sene için incelenen değerlere göre 2022 için yaz aylarındeki hareketlilik tahmini mümkün olabilmektedir. Bu şekilde tersten bir tahmin modeli oluşturulabilir. \n",
    "\n",
    "\n",
    "2.kısım:\n",
    "2020 veri setinin %70 train için %30'u test için kullanılmıştır.\n",
    "1. kısım ile aynı işlem uygulanmıştır ama bu kısımda tek bir veri seti kullanılarak gerçekleştirilmiştir.\n",
    "Böylece kendi için tahmin ve sınıflandırma değerlerini ölçülebilmiştir. "
   ]
  },
  {
   "cell_type": "markdown",
   "id": "a052ad4c",
   "metadata": {},
   "source": [
    "İlk olarak temel kütüphaneler olan numpy ve pandas import edilmiştir. Projemiz için model oluşturma kısımlarını kolaylaştıracak bütün gerekli kütüphaneleri içe aktarılması gerekmektedir. Logistic Regression ve diğer modelleri kullanabilmek için sklearn kütüphanesi import edilmiştir. Şemaları ve grafikleri çizip sonuçları görselleştirmek için ise matplotlib kütüphanesini kullanılacaktır. Elimizdeki veriyi eğitim ve test aşaması olarak bölmemize yardımcı olması için sklearn modülünün fonksiyonlarını import edilmiştir. Encoding, Confusion matris ve diğer metrikler için de gerekli kütüphaneleri yüklenmiştir. "
   ]
  },
  {
   "cell_type": "markdown",
   "id": "0b047be7",
   "metadata": {},
   "source": [
    "Proje için 7 farklı model kullanılmıştır. Bu tarz problemlerde tek bir model ile doğru sonucun elde edilmesi mümkün değildir.\n",
    "Bu nedenle en iyi sonucun elde edilmesi için model sayısı fazla tutulmuş ve 7 model seçilerek proje gerçekleştirilmiştir."
   ]
  },
  {
   "cell_type": "code",
   "execution_count": 4,
   "id": "c0058f5b",
   "metadata": {},
   "outputs": [],
   "source": [
    "import numpy as np\n",
    "import pandas as pd\n",
    "import matplotlib.pyplot as plt\n",
    "from sklearn.preprocessing import LabelEncoder\n",
    "\n",
    "from sklearn.preprocessing import StandardScaler\n",
    "from sklearn.metrics import confusion_matrix\n",
    "from sklearn.metrics import f1_score\n",
    "from sklearn.metrics import accuracy_score\n",
    "from sklearn.metrics import recall_score\n",
    "from sklearn.metrics import precision_score\n",
    "\n",
    "from sklearn.model_selection import train_test_split\n",
    "from scikitplot.metrics import plot_confusion_matrix\n",
    "from sklearn.linear_model import LogisticRegression\n",
    "from sklearn.svm import SVC\n",
    "from sklearn.tree import DecisionTreeClassifier\n",
    "from sklearn.neighbors import KNeighborsClassifier\n",
    "from sklearn.ensemble import RandomForestClassifier\n",
    "from sklearn.neural_network import MLPClassifier\n",
    "from sklearn.naive_bayes import GaussianNB\n",
    "\n",
    "from PIL import Image"
   ]
  },
  {
   "cell_type": "code",
   "execution_count": 172,
   "id": "58142b4a",
   "metadata": {},
   "outputs": [
    {
     "data": {
      "text/html": [
       "<div>\n",
       "<style scoped>\n",
       "    .dataframe tbody tr th:only-of-type {\n",
       "        vertical-align: middle;\n",
       "    }\n",
       "\n",
       "    .dataframe tbody tr th {\n",
       "        vertical-align: top;\n",
       "    }\n",
       "\n",
       "    .dataframe thead th {\n",
       "        text-align: right;\n",
       "    }\n",
       "</style>\n",
       "<table border=\"1\" class=\"dataframe\">\n",
       "  <thead>\n",
       "    <tr style=\"text-align: right;\">\n",
       "      <th></th>\n",
       "      <th>country_region_code</th>\n",
       "      <th>country_region</th>\n",
       "      <th>sub_region_1</th>\n",
       "      <th>sub_region_2</th>\n",
       "      <th>metro_area</th>\n",
       "      <th>iso_3166_2_code</th>\n",
       "      <th>census_fips_code</th>\n",
       "      <th>place_id</th>\n",
       "      <th>date</th>\n",
       "      <th>retail_and_recreation_percent_change_from_baseline</th>\n",
       "      <th>grocery_and_pharmacy_percent_change_from_baseline</th>\n",
       "      <th>parks_percent_change_from_baseline</th>\n",
       "      <th>transit_stations_percent_change_from_baseline</th>\n",
       "      <th>workplaces_percent_change_from_baseline</th>\n",
       "      <th>residential_percent_change_from_baseline</th>\n",
       "    </tr>\n",
       "  </thead>\n",
       "  <tbody>\n",
       "    <tr>\n",
       "      <th>0</th>\n",
       "      <td>TR</td>\n",
       "      <td>Turkey</td>\n",
       "      <td>NaN</td>\n",
       "      <td>NaN</td>\n",
       "      <td>NaN</td>\n",
       "      <td>NaN</td>\n",
       "      <td>NaN</td>\n",
       "      <td>ChIJcSZPllwVsBQRKl9iKtTb2UA</td>\n",
       "      <td>2021-01-01</td>\n",
       "      <td>-88.0</td>\n",
       "      <td>-64.0</td>\n",
       "      <td>-71.0</td>\n",
       "      <td>-81.0</td>\n",
       "      <td>-81.0</td>\n",
       "      <td>38.0</td>\n",
       "    </tr>\n",
       "    <tr>\n",
       "      <th>1</th>\n",
       "      <td>TR</td>\n",
       "      <td>Turkey</td>\n",
       "      <td>NaN</td>\n",
       "      <td>NaN</td>\n",
       "      <td>NaN</td>\n",
       "      <td>NaN</td>\n",
       "      <td>NaN</td>\n",
       "      <td>ChIJcSZPllwVsBQRKl9iKtTb2UA</td>\n",
       "      <td>2021-01-02</td>\n",
       "      <td>-86.0</td>\n",
       "      <td>-57.0</td>\n",
       "      <td>-71.0</td>\n",
       "      <td>-77.0</td>\n",
       "      <td>-64.0</td>\n",
       "      <td>29.0</td>\n",
       "    </tr>\n",
       "    <tr>\n",
       "      <th>2</th>\n",
       "      <td>TR</td>\n",
       "      <td>Turkey</td>\n",
       "      <td>NaN</td>\n",
       "      <td>NaN</td>\n",
       "      <td>NaN</td>\n",
       "      <td>NaN</td>\n",
       "      <td>NaN</td>\n",
       "      <td>ChIJcSZPllwVsBQRKl9iKtTb2UA</td>\n",
       "      <td>2021-01-03</td>\n",
       "      <td>-85.0</td>\n",
       "      <td>-57.0</td>\n",
       "      <td>-66.0</td>\n",
       "      <td>-74.0</td>\n",
       "      <td>-50.0</td>\n",
       "      <td>21.0</td>\n",
       "    </tr>\n",
       "    <tr>\n",
       "      <th>3</th>\n",
       "      <td>TR</td>\n",
       "      <td>Turkey</td>\n",
       "      <td>NaN</td>\n",
       "      <td>NaN</td>\n",
       "      <td>NaN</td>\n",
       "      <td>NaN</td>\n",
       "      <td>NaN</td>\n",
       "      <td>ChIJcSZPllwVsBQRKl9iKtTb2UA</td>\n",
       "      <td>2021-01-04</td>\n",
       "      <td>-33.0</td>\n",
       "      <td>18.0</td>\n",
       "      <td>4.0</td>\n",
       "      <td>-17.0</td>\n",
       "      <td>-20.0</td>\n",
       "      <td>7.0</td>\n",
       "    </tr>\n",
       "    <tr>\n",
       "      <th>4</th>\n",
       "      <td>TR</td>\n",
       "      <td>Turkey</td>\n",
       "      <td>NaN</td>\n",
       "      <td>NaN</td>\n",
       "      <td>NaN</td>\n",
       "      <td>NaN</td>\n",
       "      <td>NaN</td>\n",
       "      <td>ChIJcSZPllwVsBQRKl9iKtTb2UA</td>\n",
       "      <td>2021-01-05</td>\n",
       "      <td>-38.0</td>\n",
       "      <td>12.0</td>\n",
       "      <td>-8.0</td>\n",
       "      <td>-21.0</td>\n",
       "      <td>-22.0</td>\n",
       "      <td>10.0</td>\n",
       "    </tr>\n",
       "    <tr>\n",
       "      <th>...</th>\n",
       "      <td>...</td>\n",
       "      <td>...</td>\n",
       "      <td>...</td>\n",
       "      <td>...</td>\n",
       "      <td>...</td>\n",
       "      <td>...</td>\n",
       "      <td>...</td>\n",
       "      <td>...</td>\n",
       "      <td>...</td>\n",
       "      <td>...</td>\n",
       "      <td>...</td>\n",
       "      <td>...</td>\n",
       "      <td>...</td>\n",
       "      <td>...</td>\n",
       "      <td>...</td>\n",
       "    </tr>\n",
       "    <tr>\n",
       "      <th>158425</th>\n",
       "      <td>TR</td>\n",
       "      <td>Turkey</td>\n",
       "      <td>Zonguldak</td>\n",
       "      <td>Zonguldak Merkez</td>\n",
       "      <td>NaN</td>\n",
       "      <td>NaN</td>\n",
       "      <td>NaN</td>\n",
       "      <td>ChIJ5RJc34yHnEAR6s60uOmblJc</td>\n",
       "      <td>2021-10-01</td>\n",
       "      <td>-12.0</td>\n",
       "      <td>101.0</td>\n",
       "      <td>NaN</td>\n",
       "      <td>-17.0</td>\n",
       "      <td>-15.0</td>\n",
       "      <td>3.0</td>\n",
       "    </tr>\n",
       "    <tr>\n",
       "      <th>158426</th>\n",
       "      <td>TR</td>\n",
       "      <td>Turkey</td>\n",
       "      <td>Zonguldak</td>\n",
       "      <td>Zonguldak Merkez</td>\n",
       "      <td>NaN</td>\n",
       "      <td>NaN</td>\n",
       "      <td>NaN</td>\n",
       "      <td>ChIJ5RJc34yHnEAR6s60uOmblJc</td>\n",
       "      <td>2021-10-02</td>\n",
       "      <td>-14.0</td>\n",
       "      <td>65.0</td>\n",
       "      <td>NaN</td>\n",
       "      <td>-9.0</td>\n",
       "      <td>-17.0</td>\n",
       "      <td>1.0</td>\n",
       "    </tr>\n",
       "    <tr>\n",
       "      <th>158427</th>\n",
       "      <td>TR</td>\n",
       "      <td>Turkey</td>\n",
       "      <td>Zonguldak</td>\n",
       "      <td>Zonguldak Merkez</td>\n",
       "      <td>NaN</td>\n",
       "      <td>NaN</td>\n",
       "      <td>NaN</td>\n",
       "      <td>ChIJ5RJc34yHnEAR6s60uOmblJc</td>\n",
       "      <td>2021-10-03</td>\n",
       "      <td>-20.0</td>\n",
       "      <td>NaN</td>\n",
       "      <td>NaN</td>\n",
       "      <td>-19.0</td>\n",
       "      <td>-24.0</td>\n",
       "      <td>2.0</td>\n",
       "    </tr>\n",
       "    <tr>\n",
       "      <th>158428</th>\n",
       "      <td>TR</td>\n",
       "      <td>Turkey</td>\n",
       "      <td>Zonguldak</td>\n",
       "      <td>Zonguldak Merkez</td>\n",
       "      <td>NaN</td>\n",
       "      <td>NaN</td>\n",
       "      <td>NaN</td>\n",
       "      <td>ChIJ5RJc34yHnEAR6s60uOmblJc</td>\n",
       "      <td>2021-10-04</td>\n",
       "      <td>-8.0</td>\n",
       "      <td>111.0</td>\n",
       "      <td>NaN</td>\n",
       "      <td>-4.0</td>\n",
       "      <td>-15.0</td>\n",
       "      <td>1.0</td>\n",
       "    </tr>\n",
       "    <tr>\n",
       "      <th>158429</th>\n",
       "      <td>TR</td>\n",
       "      <td>Turkey</td>\n",
       "      <td>Zonguldak</td>\n",
       "      <td>Zonguldak Merkez</td>\n",
       "      <td>NaN</td>\n",
       "      <td>NaN</td>\n",
       "      <td>NaN</td>\n",
       "      <td>ChIJ5RJc34yHnEAR6s60uOmblJc</td>\n",
       "      <td>2021-10-05</td>\n",
       "      <td>-12.0</td>\n",
       "      <td>97.0</td>\n",
       "      <td>NaN</td>\n",
       "      <td>-8.0</td>\n",
       "      <td>-15.0</td>\n",
       "      <td>2.0</td>\n",
       "    </tr>\n",
       "  </tbody>\n",
       "</table>\n",
       "<p>158430 rows × 15 columns</p>\n",
       "</div>"
      ],
      "text/plain": [
       "       country_region_code country_region sub_region_1      sub_region_2  \\\n",
       "0                       TR         Turkey          NaN               NaN   \n",
       "1                       TR         Turkey          NaN               NaN   \n",
       "2                       TR         Turkey          NaN               NaN   \n",
       "3                       TR         Turkey          NaN               NaN   \n",
       "4                       TR         Turkey          NaN               NaN   \n",
       "...                    ...            ...          ...               ...   \n",
       "158425                  TR         Turkey    Zonguldak  Zonguldak Merkez   \n",
       "158426                  TR         Turkey    Zonguldak  Zonguldak Merkez   \n",
       "158427                  TR         Turkey    Zonguldak  Zonguldak Merkez   \n",
       "158428                  TR         Turkey    Zonguldak  Zonguldak Merkez   \n",
       "158429                  TR         Turkey    Zonguldak  Zonguldak Merkez   \n",
       "\n",
       "        metro_area iso_3166_2_code  census_fips_code  \\\n",
       "0              NaN             NaN               NaN   \n",
       "1              NaN             NaN               NaN   \n",
       "2              NaN             NaN               NaN   \n",
       "3              NaN             NaN               NaN   \n",
       "4              NaN             NaN               NaN   \n",
       "...            ...             ...               ...   \n",
       "158425         NaN             NaN               NaN   \n",
       "158426         NaN             NaN               NaN   \n",
       "158427         NaN             NaN               NaN   \n",
       "158428         NaN             NaN               NaN   \n",
       "158429         NaN             NaN               NaN   \n",
       "\n",
       "                           place_id        date  \\\n",
       "0       ChIJcSZPllwVsBQRKl9iKtTb2UA  2021-01-01   \n",
       "1       ChIJcSZPllwVsBQRKl9iKtTb2UA  2021-01-02   \n",
       "2       ChIJcSZPllwVsBQRKl9iKtTb2UA  2021-01-03   \n",
       "3       ChIJcSZPllwVsBQRKl9iKtTb2UA  2021-01-04   \n",
       "4       ChIJcSZPllwVsBQRKl9iKtTb2UA  2021-01-05   \n",
       "...                             ...         ...   \n",
       "158425  ChIJ5RJc34yHnEAR6s60uOmblJc  2021-10-01   \n",
       "158426  ChIJ5RJc34yHnEAR6s60uOmblJc  2021-10-02   \n",
       "158427  ChIJ5RJc34yHnEAR6s60uOmblJc  2021-10-03   \n",
       "158428  ChIJ5RJc34yHnEAR6s60uOmblJc  2021-10-04   \n",
       "158429  ChIJ5RJc34yHnEAR6s60uOmblJc  2021-10-05   \n",
       "\n",
       "        retail_and_recreation_percent_change_from_baseline  \\\n",
       "0                                                   -88.0    \n",
       "1                                                   -86.0    \n",
       "2                                                   -85.0    \n",
       "3                                                   -33.0    \n",
       "4                                                   -38.0    \n",
       "...                                                   ...    \n",
       "158425                                              -12.0    \n",
       "158426                                              -14.0    \n",
       "158427                                              -20.0    \n",
       "158428                                               -8.0    \n",
       "158429                                              -12.0    \n",
       "\n",
       "        grocery_and_pharmacy_percent_change_from_baseline  \\\n",
       "0                                                   -64.0   \n",
       "1                                                   -57.0   \n",
       "2                                                   -57.0   \n",
       "3                                                    18.0   \n",
       "4                                                    12.0   \n",
       "...                                                   ...   \n",
       "158425                                              101.0   \n",
       "158426                                               65.0   \n",
       "158427                                                NaN   \n",
       "158428                                              111.0   \n",
       "158429                                               97.0   \n",
       "\n",
       "        parks_percent_change_from_baseline  \\\n",
       "0                                    -71.0   \n",
       "1                                    -71.0   \n",
       "2                                    -66.0   \n",
       "3                                      4.0   \n",
       "4                                     -8.0   \n",
       "...                                    ...   \n",
       "158425                                 NaN   \n",
       "158426                                 NaN   \n",
       "158427                                 NaN   \n",
       "158428                                 NaN   \n",
       "158429                                 NaN   \n",
       "\n",
       "        transit_stations_percent_change_from_baseline  \\\n",
       "0                                               -81.0   \n",
       "1                                               -77.0   \n",
       "2                                               -74.0   \n",
       "3                                               -17.0   \n",
       "4                                               -21.0   \n",
       "...                                               ...   \n",
       "158425                                          -17.0   \n",
       "158426                                           -9.0   \n",
       "158427                                          -19.0   \n",
       "158428                                           -4.0   \n",
       "158429                                           -8.0   \n",
       "\n",
       "        workplaces_percent_change_from_baseline  \\\n",
       "0                                         -81.0   \n",
       "1                                         -64.0   \n",
       "2                                         -50.0   \n",
       "3                                         -20.0   \n",
       "4                                         -22.0   \n",
       "...                                         ...   \n",
       "158425                                    -15.0   \n",
       "158426                                    -17.0   \n",
       "158427                                    -24.0   \n",
       "158428                                    -15.0   \n",
       "158429                                    -15.0   \n",
       "\n",
       "        residential_percent_change_from_baseline  \n",
       "0                                           38.0  \n",
       "1                                           29.0  \n",
       "2                                           21.0  \n",
       "3                                            7.0  \n",
       "4                                           10.0  \n",
       "...                                          ...  \n",
       "158425                                       3.0  \n",
       "158426                                       1.0  \n",
       "158427                                       2.0  \n",
       "158428                                       1.0  \n",
       "158429                                       2.0  \n",
       "\n",
       "[158430 rows x 15 columns]"
      ]
     },
     "execution_count": 172,
     "metadata": {},
     "output_type": "execute_result"
    }
   ],
   "source": [
    "#https://www.google.com/covid19/mobility/\n",
    "url = 'https://drive.google.com/file/d/18gyHbx6rfogq3yQ-GR9COjcGgyYlCnBZ/view?usp=sharing'\n",
    "url2020 = 'https://drive.google.com/uc?id=' + url.split('/')[-2]\n",
    "url = 'https://drive.google.com/file/d/1Eg8Lffm49bc-bGFkv_4ddrQw8U8WE6P4/view?usp=sharing'\n",
    "url2021 = 'https://drive.google.com/uc?id=' + url.split('/')[-2]\n",
    "\n",
    "df20 = pd.read_csv(url2020)\n",
    "df20\n",
    "\n",
    "df21 = pd.read_csv(url2021)\n",
    "df21"
   ]
  },
  {
   "cell_type": "code",
   "execution_count": null,
   "id": "53abd532",
   "metadata": {},
   "outputs": [],
   "source": [
    "Bu kısımda 2020 ve 2021 yılları için ay bilgisi alınmıştır. Her iki yıl içinde indexler aylara çevrilmiş ve sıralanmıştır."
   ]
  },
  {
   "cell_type": "code",
   "execution_count": 173,
   "id": "8b7f6e9b",
   "metadata": {},
   "outputs": [],
   "source": [
    "date20= pd.to_datetime(df20['date']) \n",
    "index20 = pd.DatetimeIndex(date20.values).month \n",
    "dframe20= df20.set_index(index20) \n",
    "dframe20.index.name = 'Month' \n",
    "\n",
    "\n",
    "date21= pd.to_datetime(df21['date']) \n",
    "index21 = pd.DatetimeIndex(date21.values).month \n",
    "dframe21= df21.set_index(index21) \n",
    "dframe21.index.name = 'Month' \n"
   ]
  },
  {
   "cell_type": "markdown",
   "id": "6aa7edd8",
   "metadata": {},
   "source": [
    "Ayların sınıflandırılması amaçlandığı için aylar sadece index olarak kullanılmamıştır. Ek olarak \"Month\" sütunu da eklenmiştir. \n",
    "\"Month\" sütunu her iki veri setine 2020 ve 2021 yılları için de eklenmiştir."
   ]
  },
  {
   "cell_type": "code",
   "execution_count": 174,
   "id": "306461b8",
   "metadata": {},
   "outputs": [],
   "source": [
    "index_20 = dframe20.index\n",
    "dframe20[\"Month\"] = index_20\n",
    "\n",
    "index_21 = dframe21.index\n",
    "dframe21[\"Month\"] = index_21\n"
   ]
  },
  {
   "cell_type": "markdown",
   "id": "5ec1e526",
   "metadata": {},
   "source": [
    "2 veri seti incelendiğinde 2020 yılı için Ocak ayı 2021 yılı içinse Aralık ayı bulunmadığından tüm aylar incelenememektedir. \n",
    "Bu nedenle rastgele ay seçimi anlamlandırılma konusunda zor olacağından sadece yaz ayları seçilmiştir. \n",
    "Ve sadece yaz ayları incelenilmiştir."
   ]
  },
  {
   "cell_type": "markdown",
   "id": "f2228af4",
   "metadata": {},
   "source": [
    "Yukarı da belirtildiği nedenlerden kaynaklı olmak üzere problemimiz gereği her iki veri setinde de \"Month\" sütununda Haziran, Temmuz ve Ağustos aylarını çekilmiştir.\n",
    "Bir sonra ki aşama da bu veriler birleştirilmiş ve yeni bir dataframe elde edilmiştir.\n",
    "Modelin eğitilmesi ve test edilmesi için yeni veri seti hazır hale getirilmiştir.  "
   ]
  },
  {
   "cell_type": "code",
   "execution_count": 175,
   "id": "6ac09c52",
   "metadata": {},
   "outputs": [
    {
     "data": {
      "text/html": [
       "<div>\n",
       "<style scoped>\n",
       "    .dataframe tbody tr th:only-of-type {\n",
       "        vertical-align: middle;\n",
       "    }\n",
       "\n",
       "    .dataframe tbody tr th {\n",
       "        vertical-align: top;\n",
       "    }\n",
       "\n",
       "    .dataframe thead th {\n",
       "        text-align: right;\n",
       "    }\n",
       "</style>\n",
       "<table border=\"1\" class=\"dataframe\">\n",
       "  <thead>\n",
       "    <tr style=\"text-align: right;\">\n",
       "      <th></th>\n",
       "      <th>country_region_code</th>\n",
       "      <th>country_region</th>\n",
       "      <th>sub_region_1</th>\n",
       "      <th>sub_region_2</th>\n",
       "      <th>metro_area</th>\n",
       "      <th>iso_3166_2_code</th>\n",
       "      <th>census_fips_code</th>\n",
       "      <th>place_id</th>\n",
       "      <th>date</th>\n",
       "      <th>retail_and_recreation_percent_change_from_baseline</th>\n",
       "      <th>grocery_and_pharmacy_percent_change_from_baseline</th>\n",
       "      <th>parks_percent_change_from_baseline</th>\n",
       "      <th>transit_stations_percent_change_from_baseline</th>\n",
       "      <th>workplaces_percent_change_from_baseline</th>\n",
       "      <th>residential_percent_change_from_baseline</th>\n",
       "      <th>Month</th>\n",
       "    </tr>\n",
       "    <tr>\n",
       "      <th>Month</th>\n",
       "      <th></th>\n",
       "      <th></th>\n",
       "      <th></th>\n",
       "      <th></th>\n",
       "      <th></th>\n",
       "      <th></th>\n",
       "      <th></th>\n",
       "      <th></th>\n",
       "      <th></th>\n",
       "      <th></th>\n",
       "      <th></th>\n",
       "      <th></th>\n",
       "      <th></th>\n",
       "      <th></th>\n",
       "      <th></th>\n",
       "      <th></th>\n",
       "    </tr>\n",
       "  </thead>\n",
       "  <tbody>\n",
       "    <tr>\n",
       "      <th>6</th>\n",
       "      <td>TR</td>\n",
       "      <td>Turkey</td>\n",
       "      <td>NaN</td>\n",
       "      <td>NaN</td>\n",
       "      <td>NaN</td>\n",
       "      <td>NaN</td>\n",
       "      <td>NaN</td>\n",
       "      <td>ChIJcSZPllwVsBQRKl9iKtTb2UA</td>\n",
       "      <td>2021-06-01</td>\n",
       "      <td>-2.0</td>\n",
       "      <td>55.0</td>\n",
       "      <td>27.0</td>\n",
       "      <td>6.0</td>\n",
       "      <td>-11.0</td>\n",
       "      <td>1.0</td>\n",
       "      <td>6</td>\n",
       "    </tr>\n",
       "    <tr>\n",
       "      <th>6</th>\n",
       "      <td>TR</td>\n",
       "      <td>Turkey</td>\n",
       "      <td>NaN</td>\n",
       "      <td>NaN</td>\n",
       "      <td>NaN</td>\n",
       "      <td>NaN</td>\n",
       "      <td>NaN</td>\n",
       "      <td>ChIJcSZPllwVsBQRKl9iKtTb2UA</td>\n",
       "      <td>2021-06-02</td>\n",
       "      <td>-6.0</td>\n",
       "      <td>52.0</td>\n",
       "      <td>26.0</td>\n",
       "      <td>4.0</td>\n",
       "      <td>-11.0</td>\n",
       "      <td>2.0</td>\n",
       "      <td>6</td>\n",
       "    </tr>\n",
       "    <tr>\n",
       "      <th>6</th>\n",
       "      <td>TR</td>\n",
       "      <td>Turkey</td>\n",
       "      <td>NaN</td>\n",
       "      <td>NaN</td>\n",
       "      <td>NaN</td>\n",
       "      <td>NaN</td>\n",
       "      <td>NaN</td>\n",
       "      <td>ChIJcSZPllwVsBQRKl9iKtTb2UA</td>\n",
       "      <td>2021-06-03</td>\n",
       "      <td>-2.0</td>\n",
       "      <td>53.0</td>\n",
       "      <td>41.0</td>\n",
       "      <td>6.0</td>\n",
       "      <td>-8.0</td>\n",
       "      <td>2.0</td>\n",
       "      <td>6</td>\n",
       "    </tr>\n",
       "    <tr>\n",
       "      <th>6</th>\n",
       "      <td>TR</td>\n",
       "      <td>Turkey</td>\n",
       "      <td>NaN</td>\n",
       "      <td>NaN</td>\n",
       "      <td>NaN</td>\n",
       "      <td>NaN</td>\n",
       "      <td>NaN</td>\n",
       "      <td>ChIJcSZPllwVsBQRKl9iKtTb2UA</td>\n",
       "      <td>2021-06-04</td>\n",
       "      <td>-5.0</td>\n",
       "      <td>56.0</td>\n",
       "      <td>42.0</td>\n",
       "      <td>6.0</td>\n",
       "      <td>-10.0</td>\n",
       "      <td>2.0</td>\n",
       "      <td>6</td>\n",
       "    </tr>\n",
       "    <tr>\n",
       "      <th>6</th>\n",
       "      <td>TR</td>\n",
       "      <td>Turkey</td>\n",
       "      <td>NaN</td>\n",
       "      <td>NaN</td>\n",
       "      <td>NaN</td>\n",
       "      <td>NaN</td>\n",
       "      <td>NaN</td>\n",
       "      <td>ChIJcSZPllwVsBQRKl9iKtTb2UA</td>\n",
       "      <td>2021-06-05</td>\n",
       "      <td>-7.0</td>\n",
       "      <td>44.0</td>\n",
       "      <td>44.0</td>\n",
       "      <td>10.0</td>\n",
       "      <td>-5.0</td>\n",
       "      <td>-1.0</td>\n",
       "      <td>6</td>\n",
       "    </tr>\n",
       "    <tr>\n",
       "      <th>...</th>\n",
       "      <td>...</td>\n",
       "      <td>...</td>\n",
       "      <td>...</td>\n",
       "      <td>...</td>\n",
       "      <td>...</td>\n",
       "      <td>...</td>\n",
       "      <td>...</td>\n",
       "      <td>...</td>\n",
       "      <td>...</td>\n",
       "      <td>...</td>\n",
       "      <td>...</td>\n",
       "      <td>...</td>\n",
       "      <td>...</td>\n",
       "      <td>...</td>\n",
       "      <td>...</td>\n",
       "      <td>...</td>\n",
       "    </tr>\n",
       "    <tr>\n",
       "      <th>8</th>\n",
       "      <td>TR</td>\n",
       "      <td>Turkey</td>\n",
       "      <td>Zonguldak</td>\n",
       "      <td>Zonguldak Merkez</td>\n",
       "      <td>NaN</td>\n",
       "      <td>NaN</td>\n",
       "      <td>NaN</td>\n",
       "      <td>ChIJ5RJc34yHnEAR6s60uOmblJc</td>\n",
       "      <td>2021-08-27</td>\n",
       "      <td>-26.0</td>\n",
       "      <td>75.0</td>\n",
       "      <td>NaN</td>\n",
       "      <td>-18.0</td>\n",
       "      <td>-27.0</td>\n",
       "      <td>2.0</td>\n",
       "      <td>8</td>\n",
       "    </tr>\n",
       "    <tr>\n",
       "      <th>8</th>\n",
       "      <td>TR</td>\n",
       "      <td>Turkey</td>\n",
       "      <td>Zonguldak</td>\n",
       "      <td>Zonguldak Merkez</td>\n",
       "      <td>NaN</td>\n",
       "      <td>NaN</td>\n",
       "      <td>NaN</td>\n",
       "      <td>ChIJ5RJc34yHnEAR6s60uOmblJc</td>\n",
       "      <td>2021-08-28</td>\n",
       "      <td>-33.0</td>\n",
       "      <td>40.0</td>\n",
       "      <td>NaN</td>\n",
       "      <td>1.0</td>\n",
       "      <td>-19.0</td>\n",
       "      <td>-2.0</td>\n",
       "      <td>8</td>\n",
       "    </tr>\n",
       "    <tr>\n",
       "      <th>8</th>\n",
       "      <td>TR</td>\n",
       "      <td>Turkey</td>\n",
       "      <td>Zonguldak</td>\n",
       "      <td>Zonguldak Merkez</td>\n",
       "      <td>NaN</td>\n",
       "      <td>NaN</td>\n",
       "      <td>NaN</td>\n",
       "      <td>ChIJ5RJc34yHnEAR6s60uOmblJc</td>\n",
       "      <td>2021-08-29</td>\n",
       "      <td>-38.0</td>\n",
       "      <td>NaN</td>\n",
       "      <td>NaN</td>\n",
       "      <td>-12.0</td>\n",
       "      <td>-21.0</td>\n",
       "      <td>-2.0</td>\n",
       "      <td>8</td>\n",
       "    </tr>\n",
       "    <tr>\n",
       "      <th>8</th>\n",
       "      <td>TR</td>\n",
       "      <td>Turkey</td>\n",
       "      <td>Zonguldak</td>\n",
       "      <td>Zonguldak Merkez</td>\n",
       "      <td>NaN</td>\n",
       "      <td>NaN</td>\n",
       "      <td>NaN</td>\n",
       "      <td>ChIJ5RJc34yHnEAR6s60uOmblJc</td>\n",
       "      <td>2021-08-30</td>\n",
       "      <td>-21.0</td>\n",
       "      <td>82.0</td>\n",
       "      <td>NaN</td>\n",
       "      <td>20.0</td>\n",
       "      <td>-53.0</td>\n",
       "      <td>3.0</td>\n",
       "      <td>8</td>\n",
       "    </tr>\n",
       "    <tr>\n",
       "      <th>8</th>\n",
       "      <td>TR</td>\n",
       "      <td>Turkey</td>\n",
       "      <td>Zonguldak</td>\n",
       "      <td>Zonguldak Merkez</td>\n",
       "      <td>NaN</td>\n",
       "      <td>NaN</td>\n",
       "      <td>NaN</td>\n",
       "      <td>ChIJ5RJc34yHnEAR6s60uOmblJc</td>\n",
       "      <td>2021-08-31</td>\n",
       "      <td>-9.0</td>\n",
       "      <td>115.0</td>\n",
       "      <td>NaN</td>\n",
       "      <td>15.0</td>\n",
       "      <td>-22.0</td>\n",
       "      <td>0.0</td>\n",
       "      <td>8</td>\n",
       "    </tr>\n",
       "  </tbody>\n",
       "</table>\n",
       "<p>51985 rows × 16 columns</p>\n",
       "</div>"
      ],
      "text/plain": [
       "      country_region_code country_region sub_region_1      sub_region_2  \\\n",
       "Month                                                                     \n",
       "6                      TR         Turkey          NaN               NaN   \n",
       "6                      TR         Turkey          NaN               NaN   \n",
       "6                      TR         Turkey          NaN               NaN   \n",
       "6                      TR         Turkey          NaN               NaN   \n",
       "6                      TR         Turkey          NaN               NaN   \n",
       "...                   ...            ...          ...               ...   \n",
       "8                      TR         Turkey    Zonguldak  Zonguldak Merkez   \n",
       "8                      TR         Turkey    Zonguldak  Zonguldak Merkez   \n",
       "8                      TR         Turkey    Zonguldak  Zonguldak Merkez   \n",
       "8                      TR         Turkey    Zonguldak  Zonguldak Merkez   \n",
       "8                      TR         Turkey    Zonguldak  Zonguldak Merkez   \n",
       "\n",
       "       metro_area iso_3166_2_code  census_fips_code  \\\n",
       "Month                                                 \n",
       "6             NaN             NaN               NaN   \n",
       "6             NaN             NaN               NaN   \n",
       "6             NaN             NaN               NaN   \n",
       "6             NaN             NaN               NaN   \n",
       "6             NaN             NaN               NaN   \n",
       "...           ...             ...               ...   \n",
       "8             NaN             NaN               NaN   \n",
       "8             NaN             NaN               NaN   \n",
       "8             NaN             NaN               NaN   \n",
       "8             NaN             NaN               NaN   \n",
       "8             NaN             NaN               NaN   \n",
       "\n",
       "                          place_id        date  \\\n",
       "Month                                            \n",
       "6      ChIJcSZPllwVsBQRKl9iKtTb2UA  2021-06-01   \n",
       "6      ChIJcSZPllwVsBQRKl9iKtTb2UA  2021-06-02   \n",
       "6      ChIJcSZPllwVsBQRKl9iKtTb2UA  2021-06-03   \n",
       "6      ChIJcSZPllwVsBQRKl9iKtTb2UA  2021-06-04   \n",
       "6      ChIJcSZPllwVsBQRKl9iKtTb2UA  2021-06-05   \n",
       "...                            ...         ...   \n",
       "8      ChIJ5RJc34yHnEAR6s60uOmblJc  2021-08-27   \n",
       "8      ChIJ5RJc34yHnEAR6s60uOmblJc  2021-08-28   \n",
       "8      ChIJ5RJc34yHnEAR6s60uOmblJc  2021-08-29   \n",
       "8      ChIJ5RJc34yHnEAR6s60uOmblJc  2021-08-30   \n",
       "8      ChIJ5RJc34yHnEAR6s60uOmblJc  2021-08-31   \n",
       "\n",
       "       retail_and_recreation_percent_change_from_baseline  \\\n",
       "Month                                                       \n",
       "6                                                   -2.0    \n",
       "6                                                   -6.0    \n",
       "6                                                   -2.0    \n",
       "6                                                   -5.0    \n",
       "6                                                   -7.0    \n",
       "...                                                  ...    \n",
       "8                                                  -26.0    \n",
       "8                                                  -33.0    \n",
       "8                                                  -38.0    \n",
       "8                                                  -21.0    \n",
       "8                                                   -9.0    \n",
       "\n",
       "       grocery_and_pharmacy_percent_change_from_baseline  \\\n",
       "Month                                                      \n",
       "6                                                   55.0   \n",
       "6                                                   52.0   \n",
       "6                                                   53.0   \n",
       "6                                                   56.0   \n",
       "6                                                   44.0   \n",
       "...                                                  ...   \n",
       "8                                                   75.0   \n",
       "8                                                   40.0   \n",
       "8                                                    NaN   \n",
       "8                                                   82.0   \n",
       "8                                                  115.0   \n",
       "\n",
       "       parks_percent_change_from_baseline  \\\n",
       "Month                                       \n",
       "6                                    27.0   \n",
       "6                                    26.0   \n",
       "6                                    41.0   \n",
       "6                                    42.0   \n",
       "6                                    44.0   \n",
       "...                                   ...   \n",
       "8                                     NaN   \n",
       "8                                     NaN   \n",
       "8                                     NaN   \n",
       "8                                     NaN   \n",
       "8                                     NaN   \n",
       "\n",
       "       transit_stations_percent_change_from_baseline  \\\n",
       "Month                                                  \n",
       "6                                                6.0   \n",
       "6                                                4.0   \n",
       "6                                                6.0   \n",
       "6                                                6.0   \n",
       "6                                               10.0   \n",
       "...                                              ...   \n",
       "8                                              -18.0   \n",
       "8                                                1.0   \n",
       "8                                              -12.0   \n",
       "8                                               20.0   \n",
       "8                                               15.0   \n",
       "\n",
       "       workplaces_percent_change_from_baseline  \\\n",
       "Month                                            \n",
       "6                                        -11.0   \n",
       "6                                        -11.0   \n",
       "6                                         -8.0   \n",
       "6                                        -10.0   \n",
       "6                                         -5.0   \n",
       "...                                        ...   \n",
       "8                                        -27.0   \n",
       "8                                        -19.0   \n",
       "8                                        -21.0   \n",
       "8                                        -53.0   \n",
       "8                                        -22.0   \n",
       "\n",
       "       residential_percent_change_from_baseline  Month  \n",
       "Month                                                   \n",
       "6                                           1.0      6  \n",
       "6                                           2.0      6  \n",
       "6                                           2.0      6  \n",
       "6                                           2.0      6  \n",
       "6                                          -1.0      6  \n",
       "...                                         ...    ...  \n",
       "8                                           2.0      8  \n",
       "8                                          -2.0      8  \n",
       "8                                          -2.0      8  \n",
       "8                                           3.0      8  \n",
       "8                                           0.0      8  \n",
       "\n",
       "[51985 rows x 16 columns]"
      ]
     },
     "execution_count": 175,
     "metadata": {},
     "output_type": "execute_result"
    }
   ],
   "source": [
    "a1 = dframe20[dframe20['Month']== 6]\n",
    "a2 = dframe20[dframe20['Month']== 7]\n",
    "a3 = dframe20[dframe20['Month']== 8]\n",
    "\n",
    "\n",
    "b1 = dframe21[dframe21['Month']== 6]\n",
    "b2 = dframe21[dframe21['Month']== 7]\n",
    "b3 = dframe21[dframe21['Month']== 8]\n",
    "\n",
    "\n",
    "c_20 = [a1, a2, a3]\n",
    "df_20_ = pd.concat(c_20)\n",
    "\n",
    "c_21 = [b1, b2, b3]\n",
    "df_21_ = pd.concat(c_21)\n",
    "df_21_\n"
   ]
  },
  {
   "cell_type": "code",
   "execution_count": 218,
   "id": "540b737e",
   "metadata": {},
   "outputs": [
    {
     "data": {
      "text/html": [
       "<div>\n",
       "<style scoped>\n",
       "    .dataframe tbody tr th:only-of-type {\n",
       "        vertical-align: middle;\n",
       "    }\n",
       "\n",
       "    .dataframe tbody tr th {\n",
       "        vertical-align: top;\n",
       "    }\n",
       "\n",
       "    .dataframe thead th {\n",
       "        text-align: right;\n",
       "    }\n",
       "</style>\n",
       "<table border=\"1\" class=\"dataframe\">\n",
       "  <thead>\n",
       "    <tr style=\"text-align: right;\">\n",
       "      <th></th>\n",
       "      <th>country_region_code</th>\n",
       "      <th>country_region</th>\n",
       "      <th>sub_region_1</th>\n",
       "      <th>sub_region_2</th>\n",
       "      <th>metro_area</th>\n",
       "      <th>iso_3166_2_code</th>\n",
       "      <th>census_fips_code</th>\n",
       "      <th>place_id</th>\n",
       "      <th>date</th>\n",
       "      <th>retail_and_recreation_percent_change_from_baseline</th>\n",
       "      <th>grocery_and_pharmacy_percent_change_from_baseline</th>\n",
       "      <th>parks_percent_change_from_baseline</th>\n",
       "      <th>transit_stations_percent_change_from_baseline</th>\n",
       "      <th>workplaces_percent_change_from_baseline</th>\n",
       "      <th>residential_percent_change_from_baseline</th>\n",
       "      <th>Month</th>\n",
       "    </tr>\n",
       "    <tr>\n",
       "      <th>Month</th>\n",
       "      <th></th>\n",
       "      <th></th>\n",
       "      <th></th>\n",
       "      <th></th>\n",
       "      <th></th>\n",
       "      <th></th>\n",
       "      <th></th>\n",
       "      <th></th>\n",
       "      <th></th>\n",
       "      <th></th>\n",
       "      <th></th>\n",
       "      <th></th>\n",
       "      <th></th>\n",
       "      <th></th>\n",
       "      <th></th>\n",
       "      <th></th>\n",
       "    </tr>\n",
       "  </thead>\n",
       "  <tbody>\n",
       "    <tr>\n",
       "      <th>6</th>\n",
       "      <td>TR</td>\n",
       "      <td>Turkey</td>\n",
       "      <td>NaN</td>\n",
       "      <td>NaN</td>\n",
       "      <td>NaN</td>\n",
       "      <td>NaN</td>\n",
       "      <td>NaN</td>\n",
       "      <td>ChIJcSZPllwVsBQRKl9iKtTb2UA</td>\n",
       "      <td>2020-06-01</td>\n",
       "      <td>-25.0</td>\n",
       "      <td>13.0</td>\n",
       "      <td>6.0</td>\n",
       "      <td>-23.0</td>\n",
       "      <td>-21.0</td>\n",
       "      <td>7.0</td>\n",
       "      <td>6</td>\n",
       "    </tr>\n",
       "    <tr>\n",
       "      <th>6</th>\n",
       "      <td>TR</td>\n",
       "      <td>Turkey</td>\n",
       "      <td>NaN</td>\n",
       "      <td>NaN</td>\n",
       "      <td>NaN</td>\n",
       "      <td>NaN</td>\n",
       "      <td>NaN</td>\n",
       "      <td>ChIJcSZPllwVsBQRKl9iKtTb2UA</td>\n",
       "      <td>2020-06-02</td>\n",
       "      <td>-29.0</td>\n",
       "      <td>8.0</td>\n",
       "      <td>5.0</td>\n",
       "      <td>-26.0</td>\n",
       "      <td>-22.0</td>\n",
       "      <td>7.0</td>\n",
       "      <td>6</td>\n",
       "    </tr>\n",
       "    <tr>\n",
       "      <th>6</th>\n",
       "      <td>TR</td>\n",
       "      <td>Turkey</td>\n",
       "      <td>NaN</td>\n",
       "      <td>NaN</td>\n",
       "      <td>NaN</td>\n",
       "      <td>NaN</td>\n",
       "      <td>NaN</td>\n",
       "      <td>ChIJcSZPllwVsBQRKl9iKtTb2UA</td>\n",
       "      <td>2020-06-03</td>\n",
       "      <td>-25.0</td>\n",
       "      <td>14.0</td>\n",
       "      <td>24.0</td>\n",
       "      <td>-24.0</td>\n",
       "      <td>-20.0</td>\n",
       "      <td>6.0</td>\n",
       "      <td>6</td>\n",
       "    </tr>\n",
       "    <tr>\n",
       "      <th>6</th>\n",
       "      <td>TR</td>\n",
       "      <td>Turkey</td>\n",
       "      <td>NaN</td>\n",
       "      <td>NaN</td>\n",
       "      <td>NaN</td>\n",
       "      <td>NaN</td>\n",
       "      <td>NaN</td>\n",
       "      <td>ChIJcSZPllwVsBQRKl9iKtTb2UA</td>\n",
       "      <td>2020-06-04</td>\n",
       "      <td>-27.0</td>\n",
       "      <td>11.0</td>\n",
       "      <td>22.0</td>\n",
       "      <td>-22.0</td>\n",
       "      <td>-19.0</td>\n",
       "      <td>7.0</td>\n",
       "      <td>6</td>\n",
       "    </tr>\n",
       "    <tr>\n",
       "      <th>6</th>\n",
       "      <td>TR</td>\n",
       "      <td>Turkey</td>\n",
       "      <td>NaN</td>\n",
       "      <td>NaN</td>\n",
       "      <td>NaN</td>\n",
       "      <td>NaN</td>\n",
       "      <td>NaN</td>\n",
       "      <td>ChIJcSZPllwVsBQRKl9iKtTb2UA</td>\n",
       "      <td>2020-06-05</td>\n",
       "      <td>-22.0</td>\n",
       "      <td>23.0</td>\n",
       "      <td>44.0</td>\n",
       "      <td>-19.0</td>\n",
       "      <td>-20.0</td>\n",
       "      <td>6.0</td>\n",
       "      <td>6</td>\n",
       "    </tr>\n",
       "    <tr>\n",
       "      <th>...</th>\n",
       "      <td>...</td>\n",
       "      <td>...</td>\n",
       "      <td>...</td>\n",
       "      <td>...</td>\n",
       "      <td>...</td>\n",
       "      <td>...</td>\n",
       "      <td>...</td>\n",
       "      <td>...</td>\n",
       "      <td>...</td>\n",
       "      <td>...</td>\n",
       "      <td>...</td>\n",
       "      <td>...</td>\n",
       "      <td>...</td>\n",
       "      <td>...</td>\n",
       "      <td>...</td>\n",
       "      <td>...</td>\n",
       "    </tr>\n",
       "    <tr>\n",
       "      <th>8</th>\n",
       "      <td>TR</td>\n",
       "      <td>Turkey</td>\n",
       "      <td>Zonguldak</td>\n",
       "      <td>Zonguldak Merkez</td>\n",
       "      <td>NaN</td>\n",
       "      <td>NaN</td>\n",
       "      <td>NaN</td>\n",
       "      <td>ChIJ5RJc34yHnEAR6s60uOmblJc</td>\n",
       "      <td>2020-08-26</td>\n",
       "      <td>NaN</td>\n",
       "      <td>NaN</td>\n",
       "      <td>NaN</td>\n",
       "      <td>NaN</td>\n",
       "      <td>-22.0</td>\n",
       "      <td>0.0</td>\n",
       "      <td>8</td>\n",
       "    </tr>\n",
       "    <tr>\n",
       "      <th>8</th>\n",
       "      <td>TR</td>\n",
       "      <td>Turkey</td>\n",
       "      <td>Zonguldak</td>\n",
       "      <td>Zonguldak Merkez</td>\n",
       "      <td>NaN</td>\n",
       "      <td>NaN</td>\n",
       "      <td>NaN</td>\n",
       "      <td>ChIJ5RJc34yHnEAR6s60uOmblJc</td>\n",
       "      <td>2020-08-27</td>\n",
       "      <td>NaN</td>\n",
       "      <td>NaN</td>\n",
       "      <td>NaN</td>\n",
       "      <td>NaN</td>\n",
       "      <td>-21.0</td>\n",
       "      <td>0.0</td>\n",
       "      <td>8</td>\n",
       "    </tr>\n",
       "    <tr>\n",
       "      <th>8</th>\n",
       "      <td>TR</td>\n",
       "      <td>Turkey</td>\n",
       "      <td>Zonguldak</td>\n",
       "      <td>Zonguldak Merkez</td>\n",
       "      <td>NaN</td>\n",
       "      <td>NaN</td>\n",
       "      <td>NaN</td>\n",
       "      <td>ChIJ5RJc34yHnEAR6s60uOmblJc</td>\n",
       "      <td>2020-08-28</td>\n",
       "      <td>NaN</td>\n",
       "      <td>NaN</td>\n",
       "      <td>NaN</td>\n",
       "      <td>NaN</td>\n",
       "      <td>-24.0</td>\n",
       "      <td>3.0</td>\n",
       "      <td>8</td>\n",
       "    </tr>\n",
       "    <tr>\n",
       "      <th>8</th>\n",
       "      <td>TR</td>\n",
       "      <td>Turkey</td>\n",
       "      <td>Zonguldak</td>\n",
       "      <td>Zonguldak Merkez</td>\n",
       "      <td>NaN</td>\n",
       "      <td>NaN</td>\n",
       "      <td>NaN</td>\n",
       "      <td>ChIJ5RJc34yHnEAR6s60uOmblJc</td>\n",
       "      <td>2020-08-29</td>\n",
       "      <td>NaN</td>\n",
       "      <td>NaN</td>\n",
       "      <td>NaN</td>\n",
       "      <td>NaN</td>\n",
       "      <td>NaN</td>\n",
       "      <td>0.0</td>\n",
       "      <td>8</td>\n",
       "    </tr>\n",
       "    <tr>\n",
       "      <th>8</th>\n",
       "      <td>TR</td>\n",
       "      <td>Turkey</td>\n",
       "      <td>Zonguldak</td>\n",
       "      <td>Zonguldak Merkez</td>\n",
       "      <td>NaN</td>\n",
       "      <td>NaN</td>\n",
       "      <td>NaN</td>\n",
       "      <td>ChIJ5RJc34yHnEAR6s60uOmblJc</td>\n",
       "      <td>2020-08-31</td>\n",
       "      <td>NaN</td>\n",
       "      <td>NaN</td>\n",
       "      <td>NaN</td>\n",
       "      <td>NaN</td>\n",
       "      <td>-24.0</td>\n",
       "      <td>1.0</td>\n",
       "      <td>8</td>\n",
       "    </tr>\n",
       "  </tbody>\n",
       "</table>\n",
       "<p>47516 rows × 16 columns</p>\n",
       "</div>"
      ],
      "text/plain": [
       "      country_region_code country_region sub_region_1      sub_region_2  \\\n",
       "Month                                                                     \n",
       "6                      TR         Turkey          NaN               NaN   \n",
       "6                      TR         Turkey          NaN               NaN   \n",
       "6                      TR         Turkey          NaN               NaN   \n",
       "6                      TR         Turkey          NaN               NaN   \n",
       "6                      TR         Turkey          NaN               NaN   \n",
       "...                   ...            ...          ...               ...   \n",
       "8                      TR         Turkey    Zonguldak  Zonguldak Merkez   \n",
       "8                      TR         Turkey    Zonguldak  Zonguldak Merkez   \n",
       "8                      TR         Turkey    Zonguldak  Zonguldak Merkez   \n",
       "8                      TR         Turkey    Zonguldak  Zonguldak Merkez   \n",
       "8                      TR         Turkey    Zonguldak  Zonguldak Merkez   \n",
       "\n",
       "       metro_area iso_3166_2_code  census_fips_code  \\\n",
       "Month                                                 \n",
       "6             NaN             NaN               NaN   \n",
       "6             NaN             NaN               NaN   \n",
       "6             NaN             NaN               NaN   \n",
       "6             NaN             NaN               NaN   \n",
       "6             NaN             NaN               NaN   \n",
       "...           ...             ...               ...   \n",
       "8             NaN             NaN               NaN   \n",
       "8             NaN             NaN               NaN   \n",
       "8             NaN             NaN               NaN   \n",
       "8             NaN             NaN               NaN   \n",
       "8             NaN             NaN               NaN   \n",
       "\n",
       "                          place_id        date  \\\n",
       "Month                                            \n",
       "6      ChIJcSZPllwVsBQRKl9iKtTb2UA  2020-06-01   \n",
       "6      ChIJcSZPllwVsBQRKl9iKtTb2UA  2020-06-02   \n",
       "6      ChIJcSZPllwVsBQRKl9iKtTb2UA  2020-06-03   \n",
       "6      ChIJcSZPllwVsBQRKl9iKtTb2UA  2020-06-04   \n",
       "6      ChIJcSZPllwVsBQRKl9iKtTb2UA  2020-06-05   \n",
       "...                            ...         ...   \n",
       "8      ChIJ5RJc34yHnEAR6s60uOmblJc  2020-08-26   \n",
       "8      ChIJ5RJc34yHnEAR6s60uOmblJc  2020-08-27   \n",
       "8      ChIJ5RJc34yHnEAR6s60uOmblJc  2020-08-28   \n",
       "8      ChIJ5RJc34yHnEAR6s60uOmblJc  2020-08-29   \n",
       "8      ChIJ5RJc34yHnEAR6s60uOmblJc  2020-08-31   \n",
       "\n",
       "       retail_and_recreation_percent_change_from_baseline  \\\n",
       "Month                                                       \n",
       "6                                                  -25.0    \n",
       "6                                                  -29.0    \n",
       "6                                                  -25.0    \n",
       "6                                                  -27.0    \n",
       "6                                                  -22.0    \n",
       "...                                                  ...    \n",
       "8                                                    NaN    \n",
       "8                                                    NaN    \n",
       "8                                                    NaN    \n",
       "8                                                    NaN    \n",
       "8                                                    NaN    \n",
       "\n",
       "       grocery_and_pharmacy_percent_change_from_baseline  \\\n",
       "Month                                                      \n",
       "6                                                   13.0   \n",
       "6                                                    8.0   \n",
       "6                                                   14.0   \n",
       "6                                                   11.0   \n",
       "6                                                   23.0   \n",
       "...                                                  ...   \n",
       "8                                                    NaN   \n",
       "8                                                    NaN   \n",
       "8                                                    NaN   \n",
       "8                                                    NaN   \n",
       "8                                                    NaN   \n",
       "\n",
       "       parks_percent_change_from_baseline  \\\n",
       "Month                                       \n",
       "6                                     6.0   \n",
       "6                                     5.0   \n",
       "6                                    24.0   \n",
       "6                                    22.0   \n",
       "6                                    44.0   \n",
       "...                                   ...   \n",
       "8                                     NaN   \n",
       "8                                     NaN   \n",
       "8                                     NaN   \n",
       "8                                     NaN   \n",
       "8                                     NaN   \n",
       "\n",
       "       transit_stations_percent_change_from_baseline  \\\n",
       "Month                                                  \n",
       "6                                              -23.0   \n",
       "6                                              -26.0   \n",
       "6                                              -24.0   \n",
       "6                                              -22.0   \n",
       "6                                              -19.0   \n",
       "...                                              ...   \n",
       "8                                                NaN   \n",
       "8                                                NaN   \n",
       "8                                                NaN   \n",
       "8                                                NaN   \n",
       "8                                                NaN   \n",
       "\n",
       "       workplaces_percent_change_from_baseline  \\\n",
       "Month                                            \n",
       "6                                        -21.0   \n",
       "6                                        -22.0   \n",
       "6                                        -20.0   \n",
       "6                                        -19.0   \n",
       "6                                        -20.0   \n",
       "...                                        ...   \n",
       "8                                        -22.0   \n",
       "8                                        -21.0   \n",
       "8                                        -24.0   \n",
       "8                                          NaN   \n",
       "8                                        -24.0   \n",
       "\n",
       "       residential_percent_change_from_baseline  Month  \n",
       "Month                                                   \n",
       "6                                           7.0      6  \n",
       "6                                           7.0      6  \n",
       "6                                           6.0      6  \n",
       "6                                           7.0      6  \n",
       "6                                           6.0      6  \n",
       "...                                         ...    ...  \n",
       "8                                           0.0      8  \n",
       "8                                           0.0      8  \n",
       "8                                           3.0      8  \n",
       "8                                           0.0      8  \n",
       "8                                           1.0      8  \n",
       "\n",
       "[47516 rows x 16 columns]"
      ]
     },
     "execution_count": 218,
     "metadata": {},
     "output_type": "execute_result"
    }
   ],
   "source": [
    "df_20_"
   ]
  },
  {
   "cell_type": "code",
   "execution_count": null,
   "id": "8e5df193",
   "metadata": {},
   "outputs": [],
   "source": [
    "Farklı 2 yöntem:\n",
    "    "
   ]
  },
  {
   "cell_type": "markdown",
   "id": "17bdc2c1",
   "metadata": {},
   "source": [
    "Eldeki probleme en uygun tekniklerin seçilmesi, yeterli sayıdaki tekniklerin denenmesi ile mümkün olabilmektedir. \n",
    "Bu nedenle veri önişleme ve model kurma aşamaları, en iyi sonucu veren tekniğe ulaşıncaya kadar tekrarlayan bir süreçtir. \n",
    "Problemin başarımla yapılabilmesi için problemimize uygun çözüm olarak sınıflandırma modelleri kullanılmıştır. \n",
    "Dolaysıyla bizim problemimiz özelinde Denetimli öğrenme modelleri ile uygun çözüm gerçekleştirilmiştir.\n",
    "Denetimli öğrenmede seçilen tekniğe uygun hazırlanan verilerin, ilk aşamada bir kısmı modelin öğrenimi, diğer kısmı ise modelin performansının test edilmesi için\n",
    "ayrılmaktadır. Modelin eğitilmesi, eğitim verisi üzerinde uygulandıktan sonra, test verisi ile modelin doğruluk oranı belirlenmektedir. \n",
    "Model kuruluşu çalışmalarının sonucuna bağlı olarak, aynı teknikle farklı parametrelerin kullanıldığı veya başka algoritma ve araçların denendiği değişik\n",
    "modeller kurulabilmektedir. Bu sebeple projemizde accuracy ve diğer metriklerin daha iyi yorumlanabilmesi ve yüksek değerlerin elde edilmesi için farklı makine öğrenmesi modelleri de kullanılmıştır. "
   ]
  },
  {
   "cell_type": "markdown",
   "id": "43fc2877",
   "metadata": {},
   "source": [
    "Amacımız ayları sınıflandırmak olduğu için label/etiket olarak (Month) sütunu belirlenmiştir. Ve öznitelikler olarak ['retail_and_recreation_percent_change_from_baseline', 'grocery_and_pharmacy_percent_change_from_baseline', 'parks_percent_change_from_baseline','transit_stations_percent_change_from_baseline', 'workplaces_percent_change_from_baseline', 'residential_percent_change_from_baseline'] sütunları kullanılmıştır. "
   ]
  },
  {
   "cell_type": "markdown",
   "id": "6230a7d2",
   "metadata": {},
   "source": [
    "Train, test ayırımı:\n",
    "Verinin büyük bir kısmı eğitim kümesi olarak, daha küçük bir kısmı ise test kümesi olarak kullanılmalıdır. \n",
    "Eğitim ve test verisi oranları konusunda belirlenmiş net bir kriter bulunmamaktadır. Projemiz için %70 train ve %30 test olarak belirlenmiştir.Veriyi eğitim kümesinde eğitip ve test kümesinde ise test işlemi gerçekleştirilmektedir. Bu sürece doğrulama(validation) denmektedir. Bu amacın arkasındaki esas fikir, modelin performansını daha önce görmediği veriler üzerinde ölçümlemektir. Gerçek dünya senaryolarında model, değerleri görmediği veriler üzerinden tahmin edecektir. Ek olarak doğrulama gibi teknikler modeli fazla ya da yetersiz uyumlandırmaktan da kaçınmamızı sağlamaktadır."
   ]
  },
  {
   "cell_type": "markdown",
   "id": "de9e70b5",
   "metadata": {},
   "source": [
    "Test ve train kesninlikle ayrı olması gerekmektedir, çünkü test verisinde tek bir verinin bile train verisine karışması fazla uyuma neden olur (overfitting)Fazla uyum, modelin eğitildiği spesifik veriye dair her şeyi öğrendiği duruma denmektedir. Eğitim verisinde gayet iyi çalışacak olsa bile daha önce görmediği herhangi bir veri noktasında doğruluk hassasiyeti düşecektir. "
   ]
  },
  {
   "cell_type": "markdown",
   "id": "16e2cb05",
   "metadata": {},
   "source": [
    "Normalizasyon:\n",
    "Birçok makine öğrenimi algoritması, sayısal girdi değişkenleri standart bir aralığa ölçeklendiğinde daha iyi performans göstermektedir. Bu, doğrusal regresyon gibi girdinin ağırlıklı toplamını kullanan algoritmaları ve k-en yakın komşular gibi mesafe ölçümlerini kullanan algoritmaları içermektedir.\n",
    "Bu nedenlerle verileri sc=StandardScaler() kullanılarak ölçeklendirilmiştir. "
   ]
  },
  {
   "cell_type": "markdown",
   "id": "bb67b94a",
   "metadata": {},
   "source": [
    " "
   ]
  },
  {
   "cell_type": "markdown",
   "id": "8b5ab5ce",
   "metadata": {},
   "source": [
    " "
   ]
  },
  {
   "cell_type": "markdown",
   "id": "0c72c0db",
   "metadata": {},
   "source": [
    " Projenin 1.kısmı "
   ]
  },
  {
   "cell_type": "markdown",
   "id": "aea4ff92",
   "metadata": {},
   "source": [
    "İlk olarak 2020 veristinde %70lık kısım ile eğitip, 2021 veri setinin %30lık kısımı ile test ettik. 2020....  datasetibdeki veri sayısı: 47516\n",
    "2021 ... datasındaki veri sayısı: 51985\n"
   ]
  },
  {
   "cell_type": "code",
   "execution_count": 7,
   "id": "1a71c196",
   "metadata": {},
   "outputs": [
    {
     "data": {
      "image/png": "[encoded data removed]",
      "text/plain": [
       "<PIL.PngImagePlugin.PngImageFile image mode=RGBA size=267x252 at 0x25529A16F70>"
      ]
     },
     "execution_count": 7,
     "metadata": {},
     "output_type": "execute_result"
    }
   ],
   "source": [
    "tr_ts_20_21  = Image.open(\"train-test.png\")\n",
    "tr_ts_20_21 \n"
   ]
  },
  {
   "cell_type": "markdown",
   "id": "abcaf01e",
   "metadata": {},
   "source": [
    "# 1. Train2020, Test2021"
   ]
  },
  {
   "cell_type": "code",
   "execution_count": null,
   "id": "6567da29",
   "metadata": {},
   "outputs": [],
   "source": [
    "Birden fazla modelin kullanılmasının nedeni en iyi sonucun elde edilebilmesi içindir. "
   ]
  },
  {
   "cell_type": "code",
   "execution_count": 176,
   "id": "5a7132d2",
   "metadata": {},
   "outputs": [
    {
     "name": "stdout",
     "output_type": "stream",
     "text": [
      "34.79738394460118 38.009746088740705 39.89484483200821 37.69556296486278 32.681456783790715 36.09899974352398\n"
     ]
    },
    {
     "name": "stderr",
     "output_type": "stream",
     "text": [
      "C:\\Users\\Linda7lll\\anaconda3\\lib\\site-packages\\sklearn\\neural_network\\_multilayer_perceptron.py:500: ConvergenceWarning: lbfgs failed to converge (status=1):\n",
      "STOP: TOTAL NO. of ITERATIONS REACHED LIMIT.\n",
      "\n",
      "Increase the number of iterations (max_iter) or scale the data as shown in:\n",
      "    https://scikit-learn.org/stable/modules/preprocessing.html\n",
      "  self.n_iter_ = _check_optimize_result(\"lbfgs\", opt_res, self.max_iter)\n"
     ]
    }
   ],
   "source": [
    "df_s20 = df_20_.fillna(0)\n",
    "df_s21 = df_21_.fillna(0)\n",
    "\n",
    "k20 =df_s20.loc[:, \"Month\"] \n",
    "y20 = list(k20)\n",
    "label_encoder20 = LabelEncoder()\n",
    "Y20 = label_encoder20.fit_transform(y20)\n",
    "feature_names20 = ['retail_and_recreation_percent_change_from_baseline', 'grocery_and_pharmacy_percent_change_from_baseline', 'parks_percent_change_from_baseline','transit_stations_percent_change_from_baseline', 'workplaces_percent_change_from_baseline', 'residential_percent_change_from_baseline']\n",
    "X20 = df_s20[feature_names20].values\n",
    "x20_train, x20_test, y20_train, y20_test = train_test_split(X20,Y20,test_size = 0.3, random_state =0)\n",
    "\n",
    "\n",
    "k21 =df_s21.loc[:, \"Month\"] \n",
    "y21 = list(k21)\n",
    "label_encoder21 = LabelEncoder()\n",
    "Y21 = label_encoder21.fit_transform(y21)\n",
    "feature_names21 = ['retail_and_recreation_percent_change_from_baseline', 'grocery_and_pharmacy_percent_change_from_baseline', 'parks_percent_change_from_baseline','transit_stations_percent_change_from_baseline', 'workplaces_percent_change_from_baseline', 'residential_percent_change_from_baseline']\n",
    "X21 = df_s21[feature_names21].values\n",
    "x21_train, x21_test, y21_train, y21_test = train_test_split(X21,Y21,test_size = 0.3, random_state =0)\n",
    "\n",
    "sc=StandardScaler()\n",
    "X20_train = sc.fit_transform(x20_train) \n",
    "X21_test = sc.transform(x21_test)\n",
    "\n",
    "\n",
    "logr = LogisticRegression(random_state =0)\n",
    "logr.fit(X20_train, y20_train) \n",
    "y_pred_logr = logr.predict(X21_test)\n",
    "acc_logr = accuracy_score(y21_test, y_pred_logr)\n",
    "\n",
    "svc = SVC(kernel=\"rbf\")\n",
    "svc.fit(X20_train, y20_train)\n",
    "y_pred_svm = svc.predict(X21_test)\n",
    "acc_svm = accuracy_score(y21_test, y_pred_svm)\n",
    "\n",
    "knn = KNeighborsClassifier(n_neighbors=5) # k= default\n",
    "knn.fit(X20_train, y20_train)\n",
    "y_pred_knn = knn.predict(X21_test)\n",
    "acc_knn_   = accuracy_score(y21_test, y_pred_knn)\n",
    "\n",
    "dtc = DecisionTreeClassifier()\n",
    "dtc.fit(X20_train, y20_train)\n",
    "y_pred_dtc = dtc.predict(X21_test)\n",
    "acc_dtc= accuracy_score(y21_test, y_pred_dtc)\n",
    "\n",
    "\n",
    "gnb = GaussianNB()\n",
    "gnb.fit(X20_train, y20_train)\n",
    "y_pred_gnb = gnb.predict(X21_test)\n",
    "acc_gnb_   = accuracy_score(y21_test, y_pred_gnb)\n",
    "\n",
    "\n",
    "mlp = MLPClassifier(solver='lbfgs', alpha=1e-5, hidden_layer_sizes=(5, 2), random_state=1)\n",
    "mlp.fit(X20_train, y20_train)\n",
    "y_pred_mlp = mlp.predict(X21_test)\n",
    "acc_mlp = accuracy_score(y21_test, y_pred_mlp)\n",
    "\n",
    "\n",
    "print(acc_logr*100, acc_svm*100, acc_knn_*100,acc_dtc*100, acc_gnb_*100,acc_mlp*100)"
   ]
  },
  {
   "cell_type": "markdown",
   "id": "3f6b41c6",
   "metadata": {},
   "source": [
    "Sonuç:\n",
    "logr, SVM, knn, dtc, gnb, ve MLP modelleri ile eğitim gerçekleştirilmiştir. Ayrıca bu modeller test edilmiştir.\n",
    "Aşağıda yazdırılan tabloda bütün modellere ait sonuçlar bulunmaktadır.\n",
    "Test sonuçları incelendiğinde en yüksek accuracy değeri knn modeli ile elde edildiği gözlemlenmiştir. Bu değer kırmızı olarak da belirtilmiştir.\n",
    "\n",
    "knn modeli için accuracy değeri 39.89 olarak bulunmuştur.\n"
   ]
  },
  {
   "cell_type": "code",
   "execution_count": 3,
   "id": "0c994153",
   "metadata": {},
   "outputs": [
    {
     "data": {
      "image/png": "[encoded data removed]",
      "text/plain": [
       "<PIL.PngImagePlugin.PngImageFile image mode=RGBA size=382x260 at 0x255299925E0>"
      ]
     },
     "execution_count": 3,
     "metadata": {},
     "output_type": "execute_result"
    }
   ],
   "source": [
    "sonuc1 = Image.open(\"1Sonuc.png\")\n",
    "sonuc1"
   ]
  },
  {
   "cell_type": "markdown",
   "id": "bd19c915",
   "metadata": {},
   "source": [
    "# 2. Train and Test 2020 dataset"
   ]
  },
  {
   "cell_type": "markdown",
   "id": "f18eb6ed",
   "metadata": {},
   "source": [
    "#       2.1.Logistic Regression"
   ]
  },
  {
   "cell_type": "code",
   "execution_count": 177,
   "id": "0da521c0",
   "metadata": {},
   "outputs": [
    {
     "name": "stdout",
     "output_type": "stream",
     "text": [
      "Sample List:  [50, 5050, 10050, 15050, 20050, 25050, 30050, 35050, 40050, 45050]\n",
      "Accuracy List:  [46.15384615384615, 50.19794140934284, 49.78113808197374, 51.92665426521393, 51.64572112507481, 50.80632284847517, 51.48409423665646, 51.88862261782494, 51.22340956756217, 50.483885288111516]\n"
     ]
    }
   ],
   "source": [
    "sample_list_logr = []  #sample_size'ları tutan liste\n",
    "acc_list_logr    = []  #her bir sample karşılık gelen \n",
    "best_acc_logr    =0\n",
    " \n",
    "    \n",
    "for i in np.arange(50, 47000, 5000):  \n",
    "\n",
    "    df_sample = df_20_.sample(n = i)\n",
    "    df_s = df_sample.fillna(0)\n",
    "    sample_list_logr.append(i)\n",
    "    \n",
    "    \n",
    "    k =df_s.loc[:, \"Month\"] \n",
    "    y = list(k)\n",
    "    label_encoder = LabelEncoder()\n",
    "    Y = label_encoder.fit_transform(y)\n",
    "    feature_names = ['retail_and_recreation_percent_change_from_baseline', 'grocery_and_pharmacy_percent_change_from_baseline', 'parks_percent_change_from_baseline','transit_stations_percent_change_from_baseline', 'workplaces_percent_change_from_baseline', 'residential_percent_change_from_baseline']\n",
    "    X = df_s[feature_names].values\n",
    "    x_train, x_test, y_train, y_test = train_test_split(X,Y,test_size = 0.25, random_state =0)\n",
    "    sc=StandardScaler()\n",
    "    X_train = sc.fit_transform(x_train) \n",
    "    X_test = sc.transform(x_test)\n",
    "    logr = LogisticRegression(random_state =0)\n",
    "    \n",
    "    logr.fit(X_train, y_train) \n",
    "    y_pred_logr = logr.predict(X_test)\n",
    "    acc_logr = accuracy_score(y_test, y_pred_logr)\n",
    "    acc_list_logr.append(acc_logr*100)\n",
    "    \n",
    "    if best_acc_logr < acc_logr:\n",
    "        best_acc_logr = acc_logr\n",
    "    \n",
    "    \n",
    "    \n",
    "print(\"Sample List: \",sample_list_logr) #x: sample_size'ların listesi \n",
    "print(\"Accuracy List: \", acc_list_logr)"
   ]
  },
  {
   "cell_type": "code",
   "execution_count": 178,
   "id": "4f9e67cf",
   "metadata": {},
   "outputs": [
    {
     "name": "stdout",
     "output_type": "stream",
     "text": [
      "Max Accuracy in Logistic Regression:  51.92665426521393\n"
     ]
    }
   ],
   "source": [
    "print(\"Max Accuracy in Logistic Regression: \", best_acc_logr*100)"
   ]
  },
  {
   "cell_type": "code",
   "execution_count": 179,
   "id": "a6397ff2",
   "metadata": {},
   "outputs": [
    {
     "data": {
      "image/png": "[encoded data removed]",
      "text/plain": [
       "<Figure size 432x288 with 1 Axes>"
      ]
     },
     "metadata": {
      "needs_background": "light"
     },
     "output_type": "display_data"
    }
   ],
   "source": [
    "import matplotlib.pyplot as plt\n",
    "\n",
    "x_logr = sample_list_logr\n",
    "y_logr = acc_list_logr\n",
    "plt.plot(x_logr,y_logr)\n",
    "\n",
    "plt.xlabel(\"Sample_Size\")\n",
    "plt.ylabel(\"Accuracy\")\n",
    "\n",
    "plt.title(\"Logistic Regression\") \n",
    "plt.show()"
   ]
  },
  {
   "cell_type": "markdown",
   "id": "07523aee",
   "metadata": {},
   "source": [
    "Con.matrisi kullanılmasının sebebi kurulan bir sınıflandırma modelinin sonuçlarını yorumlayabilmek, gerçek ve tahmin edilen değerler arasında yer alan ilişkideki hataları çapraz olarak inceleyebilmek içindir. \n",
    "Tipik olarak denetimli bir öğrenme algoritması olan bir algoritmanın performansının görselleştirilmesine izin veren özel bir tablo düzenidir. \n",
    "True Positive ve True Negative modelin doğru olarak tahminlediği, False Positive ve False Negative ise modelin yanlış olarak tahminlediği alanlardır. \n",
    "TP'leri diagonal  elamanlar oluşturmaktadır. "
   ]
  },
  {
   "cell_type": "code",
   "execution_count": 180,
   "id": "8093e967",
   "metadata": {},
   "outputs": [
    {
     "data": {
      "text/plain": [
       "<AxesSubplot:title={'center':'Confusion Matrix'}, xlabel='Predicted label', ylabel='True label'>"
      ]
     },
     "execution_count": 180,
     "metadata": {},
     "output_type": "execute_result"
    },
    {
     "data": {
      "image/png": "[encoded data removed]",
      "text/plain": [
       "<Figure size 288x288 with 2 Axes>"
      ]
     },
     "metadata": {
      "needs_background": "light"
     },
     "output_type": "display_data"
    }
   ],
   "source": [
    "fig, ax = plt.subplots(figsize=(4,4))\n",
    "plot_confusion_matrix(y_test, y_pred_logr, ax=ax)"
   ]
  },
  {
   "cell_type": "markdown",
   "id": "61a0a6b2",
   "metadata": {},
   "source": [
    "Verisetinin doğruluğuna ve dengeli olup olmadığının kararının verilmesi için accuracy değerine bakılması yeterli olmamaktadır.\n",
    "Bu nedenle projemizde diğer metrikler de hesaplanmıştır. Hesaplanan diğer metrikler:\n",
    "\n",
    "Hassasiyet (Precision): Tüm sınıflardan, doğru olarak ne kadar tahmin edildiğinin bir ölçüsüdür. Mümkün olduğu kadar yüksek olması istenmektedir. \n",
    "Pozitif Tahmin Edici Değer olarak da bilinmektedir. \n",
    "    \n",
    "F Puanı (F Score): Bu, gerçek pozitif değerlerin oranının (recall) ve hassasiyetin (precision) harmonik ortalamasıdır. \n",
    "Sınıflandırıcının ne kadar iyi performans gösterdiğinin bir ölçüsüdür ve sınıflandırıcıları karşılaştırmakta sıklıkla kullanılmakatdır. \n",
    "\n",
    "Recall: Modelin pozitif classların kaçta kaçını yakalandığının anlamlandırılması, gözlemlenmesi ve incelenmesi için kullanılmaktadır.\n",
    "\n",
    "Bu metriklerin önemi, modeli hangi amaçla geliştirdiğinize göre değişim göstermektedir."
   ]
  },
  {
   "cell_type": "code",
   "execution_count": 181,
   "id": "e2013e65",
   "metadata": {},
   "outputs": [
    {
     "name": "stdout",
     "output_type": "stream",
     "text": [
      "recall:  49.17209327252867\n",
      "precision:  52.70613528568012\n",
      "F1 Score:   49.168067107974096\n",
      "acc:   50.483885288111516\n"
     ]
    }
   ],
   "source": [
    "print('recall: ', recall_score(y_test, y_pred_logr, average= 'macro')*100)\n",
    "print('precision: ', precision_score(y_test, y_pred_logr, average= 'macro')*100)\n",
    "print('F1 Score:  ', f1_score(y_test, y_pred_logr, average= 'macro')*100)\n",
    "print('acc:  ' , accuracy_score(y_test, y_pred_logr)*100)"
   ]
  },
  {
   "cell_type": "markdown",
   "id": "9e3c2854",
   "metadata": {},
   "source": [
    "Elde ettiğimiz değerler incelendiğinde genel olarak  birbirine yakın değerler olduğu gözükmektedir. \n",
    "Bunu yorumlamak gerekirse elimizdeki veri setinin dengeli bir veri seti olduğu sonucu çıkarılmaktadır. "
   ]
  },
  {
   "cell_type": "markdown",
   "id": "7eb35ad1",
   "metadata": {},
   "source": [
    "#  2.2.KNeighbors Classifier"
   ]
  },
  {
   "cell_type": "code",
   "execution_count": 185,
   "id": "22359721",
   "metadata": {},
   "outputs": [
    {
     "name": "stdout",
     "output_type": "stream",
     "text": [
      "Sample List:  [50, 5050, 10050, 15050, 20050, 25050, 30050, 35050, 40050, 45050]\n",
      "Accuracy List:  [40.0, 54.32343234323432, 58.97180762852404, 58.8704318936877, 59.78387364921031, 61.13107119095144, 60.64337215751525, 61.34094151212553, 61.739492301290056, 61.59082500924898]\n"
     ]
    }
   ],
   "source": [
    "sample_list_knn = []  #sample_size'ları tutan liste\n",
    "acc_list_knn    = []  #her bir sample karşılık gelen \n",
    "best_acc_knn    = 0\n",
    " \n",
    "     \n",
    "for i in np.arange(50, 47000, 5000):  \n",
    "\n",
    "    df_sample = df_20_.sample(n = i)\n",
    "    df_s = df_sample.fillna(0)\n",
    "    sample_list_knn.append(i)\n",
    "    \n",
    "    \n",
    "    k =df_s.loc[:, \"Month\"] \n",
    "    y = list(k)\n",
    "    label_encoder = LabelEncoder()\n",
    "    Y = label_encoder.fit_transform(y)\n",
    "    feature_names = ['retail_and_recreation_percent_change_from_baseline', 'grocery_and_pharmacy_percent_change_from_baseline', 'parks_percent_change_from_baseline','transit_stations_percent_change_from_baseline', 'workplaces_percent_change_from_baseline', 'residential_percent_change_from_baseline']\n",
    "    X = df_s[feature_names].values\n",
    "    x_train, x_test, y_train, y_test = train_test_split(X,Y,test_size = 0.30, random_state =0)\n",
    "    sc=StandardScaler()\n",
    "    X_train = sc.fit_transform(x_train) \n",
    "    X_test = sc.transform(x_test)\n",
    "    \n",
    "    \n",
    "    knn = KNeighborsClassifier(n_neighbors=5) # k= default\n",
    "    knn.fit(X_train, y_train)\n",
    "    \n",
    "    y_pred_knn = knn.predict(X_test)\n",
    "    acc_knn    = accuracy_score(y_test, y_pred_knn)\n",
    "    \n",
    "    if best_acc_knn < acc_knn:\n",
    "        best_acc_knn = acc_knn\n",
    "    acc_list_knn.append(acc_knn*100)\n",
    "    \n",
    "    \n",
    "print(\"Sample List: \",sample_list_knn) #x: sample_size'ların listesi \n",
    "print(\"Accuracy List: \", acc_list_knn)\n"
   ]
  },
  {
   "cell_type": "code",
   "execution_count": 186,
   "id": "69977109",
   "metadata": {},
   "outputs": [
    {
     "name": "stdout",
     "output_type": "stream",
     "text": [
      "Max Accuracy KNeighbors :  61.739492301290056\n"
     ]
    }
   ],
   "source": [
    "print(\"Max Accuracy KNeighbors : \", best_acc_knn*100)"
   ]
  },
  {
   "cell_type": "code",
   "execution_count": 187,
   "id": "5dbc7da4",
   "metadata": {},
   "outputs": [
    {
     "data": {
      "image/png": "[encoded data removed]",
      "text/plain": [
       "<Figure size 432x288 with 1 Axes>"
      ]
     },
     "metadata": {
      "needs_background": "light"
     },
     "output_type": "display_data"
    }
   ],
   "source": [
    "x_knn = sample_list_knn\n",
    "y_knn = acc_list_knn\n",
    "plt.plot(x_knn,y_knn)\n",
    "#plt.titel(\"Sample-Error \")\n",
    "plt.xlabel(\"Sample_Size\")\n",
    "plt.ylabel(\"Accuracy\")\n",
    "\n",
    "plt.title(\"KNeighbors Classifier\") \n",
    "plt.show()"
   ]
  },
  {
   "cell_type": "code",
   "execution_count": 188,
   "id": "5ee3cd7e",
   "metadata": {},
   "outputs": [
    {
     "data": {
      "text/plain": [
       "<AxesSubplot:title={'center':'Confusion Matrix'}, xlabel='Predicted label', ylabel='True label'>"
      ]
     },
     "execution_count": 188,
     "metadata": {},
     "output_type": "execute_result"
    },
    {
     "data": {
      "image/png": "[encoded data removed]",
      "text/plain": [
       "<Figure size 288x288 with 2 Axes>"
      ]
     },
     "metadata": {
      "needs_background": "light"
     },
     "output_type": "display_data"
    }
   ],
   "source": [
    "fig, ax = plt.subplots(figsize=(4,4))\n",
    "plot_confusion_matrix(y_test, y_pred_knn, ax=ax)"
   ]
  },
  {
   "cell_type": "code",
   "execution_count": 189,
   "id": "26fe10ad",
   "metadata": {},
   "outputs": [
    {
     "name": "stdout",
     "output_type": "stream",
     "text": [
      "recall:  61.06373465411935\n",
      "precision:  63.21349719197755\n",
      "F1 Score:   61.60034753395492\n",
      "acc:   61.59082500924898\n"
     ]
    }
   ],
   "source": [
    "print('recall: ', recall_score(y_test, y_pred_knn, average= 'macro')*100)\n",
    "print('precision: ', precision_score(y_test, y_pred_knn, average= 'macro')*100)\n",
    "print('F1 Score:  ', f1_score(y_test, y_pred_knn, average= 'macro')*100)\n",
    "print('acc:  ' , accuracy_score(y_test, y_pred_knn)*100)"
   ]
  },
  {
   "cell_type": "markdown",
   "id": "0bbf4655",
   "metadata": {},
   "source": [
    "# 2.3.Random Forest Classifier"
   ]
  },
  {
   "cell_type": "code",
   "execution_count": 192,
   "id": "36e5a0ba",
   "metadata": {},
   "outputs": [
    {
     "name": "stdout",
     "output_type": "stream",
     "text": [
      "Sample List:  [50, 5050, 10050, 15050, 20050, 25050, 30050, 35050, 40050, 45050]\n",
      "Accuracy List:  [15.384615384615385, 40.45922406967538, 39.9124552327895, 40.81849588094605, 40.71414322760822, 41.48171802650487, 41.408225742047115, 41.058998060025104, 41.36622390891841, 41.55198437361272]\n"
     ]
    }
   ],
   "source": [
    "sample_list_rfc = []  #sample_size'ları tutan liste\n",
    "acc_list_rfc    = []  #her bir sample karşılık gelen \n",
    "best_acc_rfc    = 0\n",
    " \n",
    "    \n",
    "for i in np.arange(50, 47000, 5000):  \n",
    "\n",
    "    df_sample = df_20_.sample(n = i)\n",
    "    df_s = df_sample.fillna(0)\n",
    "    sample_list_rfc.append(i)\n",
    "    \n",
    "    \n",
    "    k =df_s.loc[:, \"Month\"] \n",
    "    y = list(k)\n",
    "    label_encoder = LabelEncoder()\n",
    "    Y = label_encoder.fit_transform(y)\n",
    "    feature_names = ['retail_and_recreation_percent_change_from_baseline', 'parks_percent_change_from_baseline','transit_stations_percent_change_from_baseline']\n",
    "    X = df_s[feature_names].values\n",
    "    x_train, x_test, y_train, y_test = train_test_split(X,Y,test_size = 0.25, random_state =0)\n",
    "    sc=StandardScaler()\n",
    "    X_train = sc.fit_transform(x_train) \n",
    "    X_test = sc.transform(x_test)\n",
    "    \n",
    "    \n",
    "    rfc = RandomForestClassifier(n_estimators=23, criterion = 'gini')\n",
    "    rfc.fit(X_train, y_train)\n",
    "    \n",
    "    y_pred_rfc = rfc.predict(X_test)\n",
    "    acc_rfc = accuracy_score(y_test, y_pred_rfc)\n",
    "    \n",
    "    if best_acc_rfc < acc_rfc:\n",
    "        best_acc_rfc = acc_rfc\n",
    "    acc_list_rfc.append(acc_rfc*100)\n",
    "    \n",
    "    \n",
    "    \n",
    "print(\"Sample List: \",sample_list_rfc) #x: sample_size'ların listesi \n",
    "print(\"Accuracy List: \", acc_list_rfc)"
   ]
  },
  {
   "cell_type": "code",
   "execution_count": 193,
   "id": "4e067ccc",
   "metadata": {},
   "outputs": [
    {
     "name": "stdout",
     "output_type": "stream",
     "text": [
      "Max Accuracy Random Forest :  41.55198437361272\n"
     ]
    }
   ],
   "source": [
    "print(\"Max Accuracy Random Forest : \", best_acc_rfc*100)"
   ]
  },
  {
   "cell_type": "code",
   "execution_count": 194,
   "id": "b9266ad4",
   "metadata": {},
   "outputs": [
    {
     "data": {
      "image/png": "[encoded data removed]",
      "text/plain": [
       "<Figure size 432x288 with 1 Axes>"
      ]
     },
     "metadata": {
      "needs_background": "light"
     },
     "output_type": "display_data"
    }
   ],
   "source": [
    "x_rfc = sample_list_rfc\n",
    "y_rfc = acc_list_rfc\n",
    "plt.plot(x_rfc,y_rfc)\n",
    "#plt.titel(\"Sample-Error \")\n",
    "plt.xlabel(\"Sample_Size\")\n",
    "plt.ylabel(\"Accuracy\")\n",
    "\n",
    "plt.title(\"Random Forest Classifier\") \n",
    "plt.show()"
   ]
  },
  {
   "cell_type": "code",
   "execution_count": 195,
   "id": "c7930864",
   "metadata": {},
   "outputs": [
    {
     "data": {
      "text/plain": [
       "<AxesSubplot:title={'center':'Confusion Matrix'}, xlabel='Predicted label', ylabel='True label'>"
      ]
     },
     "execution_count": 195,
     "metadata": {},
     "output_type": "execute_result"
    },
    {
     "data": {
      "image/png": "[encoded data removed]",
      "text/plain": [
       "<Figure size 288x288 with 2 Axes>"
      ]
     },
     "metadata": {
      "needs_background": "light"
     },
     "output_type": "display_data"
    }
   ],
   "source": [
    "fig, ax = plt.subplots(figsize=(4,4))\n",
    "plot_confusion_matrix(y_test, y_pred_rfc, ax=ax)"
   ]
  },
  {
   "cell_type": "code",
   "execution_count": 196,
   "id": "028d06f1",
   "metadata": {},
   "outputs": [
    {
     "name": "stdout",
     "output_type": "stream",
     "text": [
      "recall:  42.57354734979772\n",
      "precision:  42.58650125103544\n",
      "F1 Score:   41.43079979603121\n",
      "acc:   41.55198437361272\n"
     ]
    }
   ],
   "source": [
    "print('recall: ', recall_score(y_test, y_pred_rfc, average= 'macro')*100)\n",
    "print('precision: ', precision_score(y_test, y_pred_rfc, average= 'macro')*100)\n",
    "print('F1 Score:  ', f1_score(y_test, y_pred_rfc, average= 'macro')*100)\n",
    "print('acc:  ' , accuracy_score(y_test, y_pred_rfc)*100)"
   ]
  },
  {
   "cell_type": "markdown",
   "id": "009d44a8",
   "metadata": {},
   "source": [
    "# 2.4.Decision Tree Classifier"
   ]
  },
  {
   "cell_type": "code",
   "execution_count": 207,
   "id": "7d14546d",
   "metadata": {},
   "outputs": [
    {
     "name": "stdout",
     "output_type": "stream",
     "text": [
      "Sample List:  [50, 5050, 10050, 15050, 20050, 25050, 30050, 35050, 40050, 45050]\n",
      "Accuracy List:  [30.76923076923077, 38.00475059382423, 38.59928372463192, 38.08131809726282, 39.896269698783165, 39.50183618074406, 40.303473978437374, 40.22595001711743, 40.327574153600324, 40.19355411524461]\n"
     ]
    }
   ],
   "source": [
    "sample_list_dtc = []  #sample_size'ları tutan liste\n",
    "acc_list_dtc    = []  #her bir sample karşılık gelen \n",
    "best_acc_dtc    = 0\n",
    "  \n",
    "    \n",
    "for i in np.arange(50, 47000, 5000):  \n",
    "\n",
    "    df_sample = df_20_.sample(n = i)\n",
    "    df_s = df_sample.fillna(0)\n",
    "    sample_list_dtc.append(i)\n",
    "    \n",
    "    \n",
    "    k =df_s.loc[:, \"Month\"] \n",
    "    y = list(k)\n",
    "    label_encoder = LabelEncoder()\n",
    "    Y = label_encoder.fit_transform(y)\n",
    "    feature_names = ['retail_and_recreation_percent_change_from_baseline', 'parks_percent_change_from_baseline','transit_stations_percent_change_from_baseline']\n",
    "    X = df_s[feature_names].values\n",
    "    x_train, x_test, y_train, y_test = train_test_split(X,Y,test_size = 0.25, random_state =0)\n",
    "    sc=StandardScaler()\n",
    "    X_train = sc.fit_transform(x_train) \n",
    "    X_test = sc.transform(x_test)\n",
    "    \n",
    "    \n",
    "    dtc = DecisionTreeClassifier()\n",
    "    dtc.fit(X_train, y_train)\n",
    "    \n",
    "    y_pred_dtc = dtc.predict(X_test)\n",
    "    acc_dtc = accuracy_score(y_test, y_pred_dtc)\n",
    "    \n",
    "    if best_acc_dtc < acc_dtc:\n",
    "        best_acc_dtc = acc_dtc\n",
    "    acc_list_dtc.append(acc_dtc*100)\n",
    "    \n",
    "    \n",
    "print(\"Sample List: \",sample_list_dtc) #x: sample_size'ların listesi \n",
    "print(\"Accuracy List: \", acc_list_dtc)"
   ]
  },
  {
   "cell_type": "markdown",
   "id": "e34bc014",
   "metadata": {},
   "source": [
    "10 farklı sample değerleri[50, 5050.........] ile model eğitilmiş ve test edilmitir. \n",
    "Bunun sonucunda her bir sample için ayrı ayrı accuracy değerini hesaplanmıştır. \n",
    "Kullanılan veri sayısına göre modelin başarısının gözlemlenebilmesi için bu adım gerçekleştirilmiştir.\n",
    "Sonuçlara bakıldığında veri sayısı arttıkça modelin başarısının da artmakta olduğu gözlemlenmiştir. \n",
    "\n",
    "Modeli %70lik bir veri seti ile eğittikten sonra %30 lik test için ayırdığımız kısım ile tahmin değeleri oluşturulmuştur.\n",
    "Böylece en yüksek elde edilecek olan accuracy değeri best_acc adıyla yeni oluşturulan değişkene atanmıştır. \n",
    "Cccuracy metriği, genel olarak sınıflayıcının ne sıklıkta doğru tahmin ettiğinin bir ölçüsüdür."
   ]
  },
  {
   "cell_type": "code",
   "execution_count": 208,
   "id": "e46d6a35",
   "metadata": {},
   "outputs": [
    {
     "name": "stdout",
     "output_type": "stream",
     "text": [
      "Max Accuracy Decision Tree :  40.327574153600324\n"
     ]
    }
   ],
   "source": [
    "print(\"Max Accuracy Decision Tree : \", best_acc_dtc*100)"
   ]
  },
  {
   "cell_type": "markdown",
   "id": "5684efa2",
   "metadata": {},
   "source": [
    "Her bir sample da elde ettiğimiz accuracy değerleri grafik çizdirilerek görselleştirilmiştir.\n",
    "Eğitim ve test esnasında sample'lardan oluşan bir liste oluşturulmuştur (sample_list_dtc), o listeyi x_label olarak belirlenmiştir.\n",
    "Sample'lara karşılık gelen accuracy değerlerinden oluşan liste (dtc modeli için acc_list_dtc) ise y labeli olarak belirlenmiştir. \n",
    "Grafik incelendiğinde;\n",
    "Veri sayısı arttıkça (yani sample değeri büyüdükçe) modelimizin accuracy değeri artmaktadır. Veri sayısı ve accuracy değeri doğru orantılıdır.\n",
    "Kullandığımız modeller ve problemimiz veri sayısına göre farklılık gösterebilir ve buna göre fazla veri ile iyileştirmenin yapılabileceği yorumu yapılabilir."
   ]
  },
  {
   "cell_type": "code",
   "execution_count": 209,
   "id": "4c1daa08",
   "metadata": {},
   "outputs": [
    {
     "data": {
      "image/png": "[encoded data removed]",
      "text/plain": [
       "<Figure size 432x288 with 1 Axes>"
      ]
     },
     "metadata": {
      "needs_background": "light"
     },
     "output_type": "display_data"
    }
   ],
   "source": [
    "x_dtc = sample_list_dtc\n",
    "y_dtc = acc_list_dtc\n",
    "plt.plot(x_dtc,y_dtc)\n",
    "#plt.titel(\"Sample-Error \")\n",
    "plt.xlabel(\"Sample_Size\")\n",
    "plt.ylabel(\"Accuracy\")\n",
    "\n",
    "plt.title(\"Decision Tree Classifier\") \n",
    "plt.show()"
   ]
  },
  {
   "cell_type": "code",
   "execution_count": 210,
   "id": "554d990f",
   "metadata": {},
   "outputs": [
    {
     "data": {
      "text/plain": [
       "<AxesSubplot:title={'center':'Confusion Matrix'}, xlabel='Predicted label', ylabel='True label'>"
      ]
     },
     "execution_count": 210,
     "metadata": {},
     "output_type": "execute_result"
    },
    {
     "data": {
      "image/png": "[encoded data removed]",
      "text/plain": [
       "<Figure size 288x288 with 2 Axes>"
      ]
     },
     "metadata": {
      "needs_background": "light"
     },
     "output_type": "display_data"
    }
   ],
   "source": [
    "fig, ax = plt.subplots(figsize=(4,4))\n",
    "plot_confusion_matrix(y_test, y_pred_dtc, ax=ax)"
   ]
  },
  {
   "cell_type": "code",
   "execution_count": 211,
   "id": "5509ab4d",
   "metadata": {},
   "outputs": [
    {
     "name": "stdout",
     "output_type": "stream",
     "text": [
      "recall:  41.35515925516975\n",
      "precision:  41.0584870469918\n",
      "F1 Score:   39.942664077758664\n",
      "acc:   40.19355411524461\n"
     ]
    }
   ],
   "source": [
    "print('recall: ', recall_score(y_test, y_pred_dtc, average= 'macro')*100)\n",
    "print('precision: ', precision_score(y_test, y_pred_dtc, average= 'macro')*100)\n",
    "print('F1 Score:  ', f1_score(y_test, y_pred_dtc, average= 'macro')*100)\n",
    "print('acc:  ' , accuracy_score(y_test, y_pred_dtc)*100)"
   ]
  },
  {
   "cell_type": "markdown",
   "id": "a0b645c9",
   "metadata": {},
   "source": [
    "# 2.5.Gaussian Navie Bayes"
   ]
  },
  {
   "cell_type": "code",
   "execution_count": 213,
   "id": "728d338e",
   "metadata": {},
   "outputs": [
    {
     "name": "stdout",
     "output_type": "stream",
     "text": [
      "Sample List:  [50, 5050, 10050, 15050, 20050, 25050, 30050, 35050, 40050, 45050]\n",
      "Accuracy List:  [38.46153846153847, 42.913697545526524, 44.28969359331476, 44.565506245017275, 45.5016955914622, 45.058278780137314, 45.361373619060295, 45.23564989158964, 44.08269249975032, 44.24220900292995]\n"
     ]
    }
   ],
   "source": [
    "sample_list_gnb = []  #sample_size'ları tutan liste\n",
    "acc_list_gnb    = []  #her bir sample karşılık gelen \n",
    "best_acc_gnb    = 0\n",
    " \n",
    " \n",
    "    \n",
    "for i in np.arange(50, 47000, 5000):  \n",
    "\n",
    "    df_sample = df_20_.sample(n = i)\n",
    "    df_s = df_sample.fillna(0)\n",
    "    sample_list_gnb.append(i)\n",
    "    \n",
    "    \n",
    "    k =df_s.loc[:, \"Month\"] \n",
    "    y = list(k)\n",
    "    label_encoder = LabelEncoder()\n",
    "    Y = label_encoder.fit_transform(y)\n",
    "    feature_names = ['retail_and_recreation_percent_change_from_baseline', 'grocery_and_pharmacy_percent_change_from_baseline', 'parks_percent_change_from_baseline','transit_stations_percent_change_from_baseline', 'workplaces_percent_change_from_baseline', 'residential_percent_change_from_baseline']\n",
    "    X = df_s[feature_names].values\n",
    "    x_train, x_test, y_train, y_test = train_test_split(X,Y,test_size = 0.25, random_state =0)\n",
    "    sc=StandardScaler()\n",
    "    X_train = sc.fit_transform(x_train) \n",
    "    X_test = sc.transform(x_test)\n",
    "    \n",
    "    \n",
    "    gnb = GaussianNB()\n",
    "    gnb.fit(X_train, y_train)\n",
    "    \n",
    "    y_pred_gnb = gnb.predict(X_test)\n",
    "    acc_gnb = accuracy_score(y_test, y_pred_gnb)\n",
    "    \n",
    "    if best_acc_gnb < acc_gnb:\n",
    "        best_acc_gnb = acc_gnb\n",
    "    acc_list_gnb.append(acc_gnb*100)\n",
    "    \n",
    "   \n",
    "print(\"Sample List: \",sample_list_gnb) #x: sample_size'ların listesi \n",
    "print(\"Accuracy List: \", acc_list_gnb)"
   ]
  },
  {
   "cell_type": "code",
   "execution_count": 214,
   "id": "19ae450f",
   "metadata": {},
   "outputs": [
    {
     "name": "stdout",
     "output_type": "stream",
     "text": [
      "Max Accuracy GaussianNB:  45.5016955914622\n"
     ]
    }
   ],
   "source": [
    "print(\"Max Accuracy GaussianNB: \", best_acc_gnb*100)"
   ]
  },
  {
   "cell_type": "code",
   "execution_count": 215,
   "id": "fa66cc9f",
   "metadata": {},
   "outputs": [
    {
     "data": {
      "image/png": "[encoded data removed]",
      "text/plain": [
       "<Figure size 432x288 with 1 Axes>"
      ]
     },
     "metadata": {
      "needs_background": "light"
     },
     "output_type": "display_data"
    }
   ],
   "source": [
    "x_gnb = sample_list_gnb\n",
    "y_gnb = acc_list_gnb\n",
    "plt.plot(x_gnb,y_gnb)\n",
    "\n",
    "plt.xlabel(\"Sample_Size\")\n",
    "plt.ylabel(\"Accuracy\")\n",
    "\n",
    "plt.title(\"Gaussian Navie Bayes\") \n",
    "plt.show()"
   ]
  },
  {
   "cell_type": "code",
   "execution_count": 216,
   "id": "f6d16243",
   "metadata": {},
   "outputs": [
    {
     "data": {
      "text/plain": [
       "<AxesSubplot:title={'center':'Confusion Matrix'}, xlabel='Predicted label', ylabel='True label'>"
      ]
     },
     "execution_count": 216,
     "metadata": {},
     "output_type": "execute_result"
    },
    {
     "data": {
      "image/png": "[encoded data removed]",
      "text/plain": [
       "<Figure size 288x288 with 2 Axes>"
      ]
     },
     "metadata": {
      "needs_background": "light"
     },
     "output_type": "display_data"
    }
   ],
   "source": [
    "fig, ax = plt.subplots(figsize=(4,4))\n",
    "plot_confusion_matrix(y_test, y_pred_gnb, ax=ax)"
   ]
  },
  {
   "cell_type": "code",
   "execution_count": 217,
   "id": "395fe0a7",
   "metadata": {},
   "outputs": [
    {
     "name": "stdout",
     "output_type": "stream",
     "text": [
      "recall:  42.920770727890265\n",
      "precision:  49.04348209177638\n",
      "F1 Score:   39.15727662021828\n",
      "acc:   44.24220900292995\n"
     ]
    }
   ],
   "source": [
    "print('recall: ', recall_score(y_test, y_pred_gnb, average= 'macro')*100)\n",
    "print('precision: ', precision_score(y_test, y_pred_gnb, average= 'macro')*100)\n",
    "print('F1 Score:  ', f1_score(y_test, y_pred_gnb, average= 'macro')*100)\n",
    "print('acc:  ' , accuracy_score(y_test, y_pred_gnb)*100)"
   ]
  },
  {
   "cell_type": "markdown",
   "id": "662204f2",
   "metadata": {},
   "source": [
    "2.kısım Sonuç:\n",
    "Tabloda da belirtildiği gibi 5 farklı model ile eğitim ve test gerçekleştirilmiştir.\n",
    "accuracy, precision, recall ve f1 score metrikleri hesaplanmıştır.\n",
    "İlk kısımda olduğu gibi bu kısımda da en yüksek başarı knn modeli ile elde edilmiştir. \n",
    "Tablodaki Accuracy max sütunu her bir modeli farklı 10 farklı sample'lar ile eğitip test ettikten sonra en yüksek accuracy değerini ifade etmektedir. \n",
    "Diğer metrikleri ise son sample olan 45050 ile train ve test sonucu elde edilen değerlerdir. \n",
    "İlk kısımve 2. kısımda elde edilen sonuçlara tekrar bakıldığında en yüksek değeri knn modeli sonucu elde edilmiştir. \n",
    "Bunun sonucunda kullandığımız veri seti ile proplemimize en uygun modelin knn olduğu sonucuna varılmaktadır. "
   ]
  },
  {
   "cell_type": "code",
   "execution_count": 9,
   "id": "f333df29",
   "metadata": {},
   "outputs": [
    {
     "data": {
      "image/png": "[encoded data removed]",
      "text/plain": [
       "<PIL.PngImagePlugin.PngImageFile image mode=RGBA size=893x255 at 0x25529BE8CA0>"
      ]
     },
     "execution_count": 9,
     "metadata": {},
     "output_type": "execute_result"
    }
   ],
   "source": [
    "sonuc2 = Image.open(\"2Sonuc.png\")\n",
    "sonuc2"
   ]
  },
  {
   "cell_type": "code",
   "execution_count": null,
   "id": "22090e2d",
   "metadata": {},
   "outputs": [],
   "source": []
  }
 ],
 "metadata": {
  "kernelspec": {
   "display_name": "Python 3 (ipykernel)",
   "language": "python",
   "name": "python3"
  },
  "language_info": {
   "codemirror_mode": {
    "name": "ipython",
    "version": 3
   },
   "file_extension": ".py",
   "mimetype": "text/x-python",
   "name": "python",
   "nbconvert_exporter": "python",
   "pygments_lexer": "ipython3",
   "version": "3.9.7"
  }
 },
 "nbformat": 4,
 "nbformat_minor": 5
}
